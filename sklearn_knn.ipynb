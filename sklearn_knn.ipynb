{
 "cells": [
  {
   "cell_type": "markdown",
   "metadata": {
    "colab_type": "text",
    "id": "pdLP6qa3gdpn"
   },
   "source": [
    "# CS105 Final Project\n",
    "Presented by: Rasa Jahromi, Kenny Thai, Terence Mui, Dilan Guerrero, Manit Bishnoi"
   ]
  },
  {
   "cell_type": "markdown",
   "metadata": {
    "colab_type": "text",
    "id": "pdLP6qa3gdpn"
   },
   "source": [
    "## Project Description\n",
    "In recent years, electric vehicles have been taking the car market by storm. With rising concerns about climate change and environmental sustainability, many are considering switching to electric vehicles to help our planet. President Biden, our very own Governor Newsom, many American families, automakers, and auto workers agree the future of transportation is electric. Knowing the right price of electric vehicles is important today because it can help individuals and businesses make informed decisions about their transportation options.  However, electric vehicles can be more expensive than traditional gasoline vehicles, and understanding the costs involved can help consumers weigh the benefits and make the best choice for their needs and budget. This sparked the idea for our group to set a goal of trying to predict the price of electric vehicles based on their features. We can achieve this goal by using Machine Learning techniques we learned in the CS105 class. One such technique is Supervised Learning. In supervised learning, a machine learning algorithm builds a model by examining many examples and attempting to find a model that minimizes loss. But before doing that, we need a sufficient dataset that can help us with this process. <br>\n",
    "\n",
    "### The Dataset\n",
    "Records of title activity (transactions recording the changes of ownership), and registration activity (transactions authorizing vehicles to be used on Washington public roads) for electric vehicles in the state of Washington. Dataset includes records from 2020-Present (Last updated: 2/17/2023). This dataset has 600,000+ rows initially. Using this dataset, we have access to the price electric vehicles were bought and sold along side with features such as the Model Year, Make of the vehicle, Model of the vehicle, odometer reading (mileage), whether the car was new or used, the date of the purchase, the type of the car, etc. This dataset is from the Department of Licensing in Washington and listed on a government website thus credible. <br>\n",
    "Link to dataset: https://catalog.data.gov/dataset/electric-vehicle-title-and-registration-activity"
   ]
  },
  {
   "cell_type": "markdown",
   "metadata": {
    "colab_type": "text",
    "id": "pdLP6qa3gdpn"
   },
   "source": [
    "## Data Cleaning\n",
    "- We will first remove all unwanted columns that are unnecessary to our goal. There are 32 columns and we do not need all of them.\n",
    "- Next we will remove all rows that are not related to purchase or sale of vehicles. This is because we are not interested in other title activity (such as registeration renewal) since they do not provide any information about the price in which the car was bought or sold which is what we are predicting. The rows missing sale price are also missing the odometer reading of the car which is a crucial factor when predicting price of any car. Even ignoring those two points, the dataset is big enough to be able to afford dropping rows. In conclusion, dropping rows with no sale price is valid in this situation.\n",
    "- We will also remove all cars that are not Battery Electric Vehicle (Example: Hybrid cars). This removal is because our goal is to predict prices of electric cars, not including hybrid vehicles.\n",
    "- We will now get rid of the outliers. We want to make sure that there are no cars with negative mileages, or odometer readings above 250,000 miles. We also want to restrict the model year of the cars to be from (and including) 2000 to 2023. Lastly, we noticed that there are cars that are being sold for extremely cheap or extremely expensive. An example was a NISSAN LEAF which was being sold for \\\\$12,312,016. We later on figured that this price is very similar to the date 12/31/2016 which shows us that there could be data entry mistakes. As a result, we decided to limit the sale price of these cars to \\\\$100 to \\\\$300,000. The reason why we chose \\\\$350k as a bound was when we were doing EDA, we found that Porsche Taycan was the most expensive car being sold at around \\\\$300k.\n",
    "- Since we know each car has a unique vin number, we can simplify the vin numbers and use them as index."
   ]
  },
  {
   "cell_type": "code",
   "execution_count": null,
   "metadata": {
    "colab": {},
    "colab_type": "code",
    "id": "jwOMv33Jgdpp"
   },
   "outputs": [
    {
     "data": {
      "text/html": [
       "<div>\n",
       "<style scoped>\n",
       "    .dataframe tbody tr th:only-of-type {\n",
       "        vertical-align: middle;\n",
       "    }\n",
       "\n",
       "    .dataframe tbody tr th {\n",
       "        vertical-align: top;\n",
       "    }\n",
       "\n",
       "    .dataframe thead th {\n",
       "        text-align: right;\n",
       "    }\n",
       "</style>\n",
       "<table border=\"1\" class=\"dataframe\">\n",
       "  <thead>\n",
       "    <tr style=\"text-align: right;\">\n",
       "      <th></th>\n",
       "      <th>Clean Alternative Fuel Vehicle Type</th>\n",
       "      <th>Model Year</th>\n",
       "      <th>Make</th>\n",
       "      <th>Model</th>\n",
       "      <th>Vehicle Primary Use</th>\n",
       "      <th>Electric Range</th>\n",
       "      <th>Odometer Reading</th>\n",
       "      <th>New or Used Vehicle</th>\n",
       "      <th>Sale Price</th>\n",
       "      <th>Transaction Year</th>\n",
       "    </tr>\n",
       "    <tr>\n",
       "      <th>Car ID</th>\n",
       "      <th></th>\n",
       "      <th></th>\n",
       "      <th></th>\n",
       "      <th></th>\n",
       "      <th></th>\n",
       "      <th></th>\n",
       "      <th></th>\n",
       "      <th></th>\n",
       "      <th></th>\n",
       "      <th></th>\n",
       "    </tr>\n",
       "  </thead>\n",
       "  <tbody>\n",
       "    <tr>\n",
       "      <th>1</th>\n",
       "      <td>Battery Electric Vehicle (BEV)</td>\n",
       "      <td>2014</td>\n",
       "      <td>MERCEDES-BENZ</td>\n",
       "      <td>B-Class</td>\n",
       "      <td>Passenger</td>\n",
       "      <td>87</td>\n",
       "      <td>37031</td>\n",
       "      <td>Used</td>\n",
       "      <td>19443</td>\n",
       "      <td>2018</td>\n",
       "    </tr>\n",
       "    <tr>\n",
       "      <th>2</th>\n",
       "      <td>Battery Electric Vehicle (BEV)</td>\n",
       "      <td>2018</td>\n",
       "      <td>TESLA</td>\n",
       "      <td>Model 3</td>\n",
       "      <td>Passenger</td>\n",
       "      <td>215</td>\n",
       "      <td>50</td>\n",
       "      <td>New</td>\n",
       "      <td>65700</td>\n",
       "      <td>2018</td>\n",
       "    </tr>\n",
       "    <tr>\n",
       "      <th>3</th>\n",
       "      <td>Battery Electric Vehicle (BEV)</td>\n",
       "      <td>2023</td>\n",
       "      <td>TESLA</td>\n",
       "      <td>Model Y</td>\n",
       "      <td>Passenger</td>\n",
       "      <td>0</td>\n",
       "      <td>15</td>\n",
       "      <td>New</td>\n",
       "      <td>84440</td>\n",
       "      <td>2022</td>\n",
       "    </tr>\n",
       "    <tr>\n",
       "      <th>4</th>\n",
       "      <td>Battery Electric Vehicle (BEV)</td>\n",
       "      <td>2014</td>\n",
       "      <td>TESLA</td>\n",
       "      <td>Model S</td>\n",
       "      <td>Passenger</td>\n",
       "      <td>208</td>\n",
       "      <td>30840</td>\n",
       "      <td>Used</td>\n",
       "      <td>66864</td>\n",
       "      <td>2017</td>\n",
       "    </tr>\n",
       "    <tr>\n",
       "      <th>5</th>\n",
       "      <td>Battery Electric Vehicle (BEV)</td>\n",
       "      <td>2022</td>\n",
       "      <td>TESLA</td>\n",
       "      <td>Model Y</td>\n",
       "      <td>Passenger</td>\n",
       "      <td>0</td>\n",
       "      <td>15</td>\n",
       "      <td>New</td>\n",
       "      <td>61440</td>\n",
       "      <td>2022</td>\n",
       "    </tr>\n",
       "    <tr>\n",
       "      <th>...</th>\n",
       "      <td>...</td>\n",
       "      <td>...</td>\n",
       "      <td>...</td>\n",
       "      <td>...</td>\n",
       "      <td>...</td>\n",
       "      <td>...</td>\n",
       "      <td>...</td>\n",
       "      <td>...</td>\n",
       "      <td>...</td>\n",
       "      <td>...</td>\n",
       "    </tr>\n",
       "    <tr>\n",
       "      <th>109263</th>\n",
       "      <td>Battery Electric Vehicle (BEV)</td>\n",
       "      <td>2022</td>\n",
       "      <td>RIVIAN</td>\n",
       "      <td>R1T</td>\n",
       "      <td>Truck</td>\n",
       "      <td>0</td>\n",
       "      <td>100</td>\n",
       "      <td>New</td>\n",
       "      <td>82295</td>\n",
       "      <td>2022</td>\n",
       "    </tr>\n",
       "    <tr>\n",
       "      <th>109264</th>\n",
       "      <td>Battery Electric Vehicle (BEV)</td>\n",
       "      <td>2022</td>\n",
       "      <td>TESLA</td>\n",
       "      <td>Model 3</td>\n",
       "      <td>Passenger</td>\n",
       "      <td>0</td>\n",
       "      <td>187</td>\n",
       "      <td>New</td>\n",
       "      <td>75290</td>\n",
       "      <td>2022</td>\n",
       "    </tr>\n",
       "    <tr>\n",
       "      <th>109265</th>\n",
       "      <td>Battery Electric Vehicle (BEV)</td>\n",
       "      <td>2011</td>\n",
       "      <td>NISSAN</td>\n",
       "      <td>Leaf</td>\n",
       "      <td>Passenger</td>\n",
       "      <td>73</td>\n",
       "      <td>64000</td>\n",
       "      <td>Used</td>\n",
       "      <td>1540</td>\n",
       "      <td>2022</td>\n",
       "    </tr>\n",
       "    <tr>\n",
       "      <th>109266</th>\n",
       "      <td>Battery Electric Vehicle (BEV)</td>\n",
       "      <td>2020</td>\n",
       "      <td>TESLA</td>\n",
       "      <td>Model Y</td>\n",
       "      <td>Passenger</td>\n",
       "      <td>291</td>\n",
       "      <td>24482</td>\n",
       "      <td>Used</td>\n",
       "      <td>68800</td>\n",
       "      <td>2022</td>\n",
       "    </tr>\n",
       "    <tr>\n",
       "      <th>109267</th>\n",
       "      <td>Battery Electric Vehicle (BEV)</td>\n",
       "      <td>2021</td>\n",
       "      <td>VOLKSWAGEN</td>\n",
       "      <td>ID.4</td>\n",
       "      <td>Passenger</td>\n",
       "      <td>0</td>\n",
       "      <td>13</td>\n",
       "      <td>New</td>\n",
       "      <td>45690</td>\n",
       "      <td>2022</td>\n",
       "    </tr>\n",
       "  </tbody>\n",
       "</table>\n",
       "<p>109267 rows × 10 columns</p>\n",
       "</div>"
      ],
      "text/plain": [
       "       Clean Alternative Fuel Vehicle Type  Model Year           Make  \\\n",
       "Car ID                                                                  \n",
       "1           Battery Electric Vehicle (BEV)        2014  MERCEDES-BENZ   \n",
       "2           Battery Electric Vehicle (BEV)        2018          TESLA   \n",
       "3           Battery Electric Vehicle (BEV)        2023          TESLA   \n",
       "4           Battery Electric Vehicle (BEV)        2014          TESLA   \n",
       "5           Battery Electric Vehicle (BEV)        2022          TESLA   \n",
       "...                                    ...         ...            ...   \n",
       "109263      Battery Electric Vehicle (BEV)        2022         RIVIAN   \n",
       "109264      Battery Electric Vehicle (BEV)        2022          TESLA   \n",
       "109265      Battery Electric Vehicle (BEV)        2011         NISSAN   \n",
       "109266      Battery Electric Vehicle (BEV)        2020          TESLA   \n",
       "109267      Battery Electric Vehicle (BEV)        2021     VOLKSWAGEN   \n",
       "\n",
       "          Model Vehicle Primary Use  Electric Range  Odometer Reading  \\\n",
       "Car ID                                                                  \n",
       "1       B-Class           Passenger              87             37031   \n",
       "2       Model 3           Passenger             215                50   \n",
       "3       Model Y           Passenger               0                15   \n",
       "4       Model S           Passenger             208             30840   \n",
       "5       Model Y           Passenger               0                15   \n",
       "...         ...                 ...             ...               ...   \n",
       "109263      R1T               Truck               0               100   \n",
       "109264  Model 3           Passenger               0               187   \n",
       "109265     Leaf           Passenger              73             64000   \n",
       "109266  Model Y           Passenger             291             24482   \n",
       "109267     ID.4           Passenger               0                13   \n",
       "\n",
       "       New or Used Vehicle  Sale Price  Transaction Year  \n",
       "Car ID                                                    \n",
       "1                     Used       19443              2018  \n",
       "2                      New       65700              2018  \n",
       "3                      New       84440              2022  \n",
       "4                     Used       66864              2017  \n",
       "5                      New       61440              2022  \n",
       "...                    ...         ...               ...  \n",
       "109263                 New       82295              2022  \n",
       "109264                 New       75290              2022  \n",
       "109265                Used        1540              2022  \n",
       "109266                Used       68800              2022  \n",
       "109267                 New       45690              2022  \n",
       "\n",
       "[109267 rows x 10 columns]"
      ]
     },
     "execution_count": 133,
     "metadata": {},
     "output_type": "execute_result"
    }
   ],
   "source": [
    "import pandas as pd\n",
    "import numpy as np\n",
    "\n",
    "#Read the csv file\n",
    "cars_df = pd.read_csv(\"car.csv\")\n",
    "\n",
    "#Data cleaning: Remove unwanted columns\n",
    "cars_df = cars_df.iloc[:,[0,1,3,4,5,6,7,8,10,11,16]]\n",
    "\n",
    "#Data cleaning: Remove all rows with no sale price\n",
    "#Why not predict the price and not drop the row? \n",
    "#Because rows with no sale price are not guarenteed to have odometer reading\n",
    "#Additionaly, the dataset is big enough to be able to afford dropping rows\n",
    "cars_df = cars_df[cars_df[\"Sale Price\"] != 0]\n",
    "\n",
    "#Data cleaning: Remove all cars that are not Battery Electric Vehicle (Example: Hybrid cars)\n",
    "cars_df = cars_df[cars_df[\"Clean Alternative Fuel Vehicle Type\"] == \"Battery Electric Vehicle (BEV)\"]\n",
    "\n",
    "#Data cleaning: Getting rid of outliers\n",
    "cars_df = cars_df[cars_df[\"Odometer Reading\"] >= 0]\n",
    "cars_df = cars_df[cars_df[\"Odometer Reading\"] <= 150000]\n",
    "cars_df = cars_df[cars_df[\"Model Year\"] >= 2010]\n",
    "cars_df = cars_df[cars_df[\"Model Year\"] <= 2023]\n",
    "cars_df = cars_df[cars_df[\"Sale Price\"] <= 300000]\n",
    "cars_df = cars_df[cars_df[\"Sale Price\"] > 1000]\n",
    "\n",
    "#Since we know each car has a unique vin number, we\n",
    "#can simplify the vin numbers and use them as index\n",
    "cars_df[\"VIN (1-10)\"] = cars_df.reset_index().index + 1\n",
    "cars_df = cars_df.rename(columns={\"VIN (1-10)\": \"Car ID\"})\n",
    "\n",
    "# Split the data into training and test sets.\n",
    "cars_df = cars_df.set_index(\"Car ID\")\n",
    "cars_train = cars_df.loc[:100000].copy()\n",
    "cars_test = cars_df.loc[100000:].copy()\n",
    "\n",
    "# Smaller sample data set which has chosen random rows (every 10th row)\n",
    "cars_temp = cars_df.iloc[::10, :]\n",
    "cars_temp = cars_temp.iloc[:,[1,2,3,6,7,8,9]]\n",
    "\n",
    "# Log transform the target(Sale Price) for visualization purposes only\n",
    "cars_train[\"log(Sale Price)\"] = np.log(cars_train[\"Sale Price\"])\n",
    "\n",
    "cars_df\n",
    "#cars_train\n",
    "#cars_test\n",
    "#cars_temp"
   ]
  },
  {
   "cell_type": "markdown",
   "metadata": {
    "colab": {},
    "colab_type": "code",
    "id": "jwOMv33Jgdpp"
   },
   "source": [
    "## Exploratory Data Analysis (EDA)\n"
   ]
  },
  {
   "cell_type": "code",
   "execution_count": 2,
   "metadata": {
    "colab": {},
    "colab_type": "code",
    "id": "jwOMv33Jgdpp"
   },
   "outputs": [
    {
     "name": "stdout",
     "output_type": "stream",
     "text": [
      "Average of Odometer Reading:  7468.408030851336\n",
      "Standard deviation of Odometer Reading:  16379.392737834867\n"
     ]
    }
   ],
   "source": [
    "#Mean and std of odometer reading\n",
    "cars_mean = cars_df[\"Odometer Reading\"].mean()\n",
    "cars_std = cars_df[\"Odometer Reading\"].std()\n",
    "print(\"Average of Odometer Reading: \", cars_mean)\n",
    "print(\"Standard deviation of Odometer Reading: \", cars_std)"
   ]
  },
  {
   "cell_type": "markdown",
   "metadata": {
    "colab": {},
    "colab_type": "code",
    "id": "jwOMv33Jgdpp"
   },
   "source": [
    "Observation: The average odometer reading on vehicles is 7,462 miles. This shows us that the electric cars are relatively low mileage. This could also mean that there are a lot of new cars with very low to none mileage on them which makes sense since electric cars are becoming more and more popular. The standard deviation of odometer reading is also 16368 miles which is nothing out of the ordinary."
   ]
  },
  {
   "cell_type": "code",
   "execution_count": 3,
   "metadata": {
    "colab": {},
    "colab_type": "code",
    "id": "jwOMv33Jgdpp"
   },
   "outputs": [
    {
     "name": "stdout",
     "output_type": "stream",
     "text": [
      "Average sale price:  50814.74307307088\n",
      "Standard deviation of sale price:  26458.028474900086\n"
     ]
    }
   ],
   "source": [
    "#Mean and std of sale price\n",
    "price_mean = cars_df[\"Sale Price\"].mean()\n",
    "price_std = cars_df[\"Sale Price\"].std()\n",
    "print(\"Average sale price: \", price_mean)\n",
    "print(\"Standard deviation of sale price: \", price_std)"
   ]
  },
  {
   "cell_type": "markdown",
   "metadata": {
    "colab": {},
    "colab_type": "code",
    "id": "jwOMv33Jgdpp"
   },
   "source": [
    "Observation: We can see that on average, electric cars in this dataset are being sold for \\\\$50,830. This goes to show that electric cars are much more expensive than your average gasoline car thus gives us more motivation to try and predict the price of these rather expensive cars. The standard deviation for price is \\\\$26,462 which again is nothing too strange. We can also guess that there are a lot of newer cars, thus higher prices, because of the earlier visualization we did with odometer readings."
   ]
  },
  {
   "cell_type": "code",
   "execution_count": 4,
   "metadata": {
    "colab": {},
    "colab_type": "code",
    "id": "jwOMv33Jgdpp"
   },
   "outputs": [
    {
     "name": "stdout",
     "output_type": "stream",
     "text": [
      "Most popular model year:  0    2022\n",
      "Name: Model Year, dtype: int64\n",
      "Most popular make:  0    TESLA\n",
      "Name: Make, dtype: object\n",
      "Most popular model:  0    Model 3\n",
      "Name: Model, dtype: object\n"
     ]
    }
   ],
   "source": [
    "#Most popular Model Year, Make, and Model\n",
    "popular_year = cars_df[\"Model Year\"].mode()\n",
    "popular_make = cars_df[\"Make\"].mode()\n",
    "popular_model = cars_df[\"Model\"].mode()\n",
    "print(\"Most popular model year: \", popular_year)\n",
    "print(\"Most popular make: \", popular_make) \n",
    "print(\"Most popular model: \", popular_model)"
   ]
  },
  {
   "cell_type": "markdown",
   "metadata": {
    "colab": {},
    "colab_type": "code",
    "id": "jwOMv33Jgdpp"
   },
   "source": [
    "Observation: No big surprises here. We can see that the most popular car make is TESLA and the most popular car model is Model 3 (TESLA). The most popular model year is 2022 which shows how much electric car purchases have became popular in recent years."
   ]
  },
  {
   "cell_type": "code",
   "execution_count": 5,
   "metadata": {
    "colab": {},
    "colab_type": "code",
    "id": "jwOMv33Jgdpp"
   },
   "outputs": [
    {
     "data": {
      "text/html": [
       "<div>\n",
       "<style scoped>\n",
       "    .dataframe tbody tr th:only-of-type {\n",
       "        vertical-align: middle;\n",
       "    }\n",
       "\n",
       "    .dataframe tbody tr th {\n",
       "        vertical-align: top;\n",
       "    }\n",
       "\n",
       "    .dataframe thead th {\n",
       "        text-align: right;\n",
       "    }\n",
       "</style>\n",
       "<table border=\"1\" class=\"dataframe\">\n",
       "  <thead>\n",
       "    <tr style=\"text-align: right;\">\n",
       "      <th></th>\n",
       "      <th>Clean Alternative Fuel Vehicle Type</th>\n",
       "      <th>Model Year</th>\n",
       "      <th>Make</th>\n",
       "      <th>Model</th>\n",
       "      <th>Vehicle Primary Use</th>\n",
       "      <th>Electric Range</th>\n",
       "      <th>Odometer Reading</th>\n",
       "      <th>New or Used Vehicle</th>\n",
       "      <th>Sale Price</th>\n",
       "      <th>Transaction Year</th>\n",
       "    </tr>\n",
       "    <tr>\n",
       "      <th>Car ID</th>\n",
       "      <th></th>\n",
       "      <th></th>\n",
       "      <th></th>\n",
       "      <th></th>\n",
       "      <th></th>\n",
       "      <th></th>\n",
       "      <th></th>\n",
       "      <th></th>\n",
       "      <th></th>\n",
       "      <th></th>\n",
       "    </tr>\n",
       "  </thead>\n",
       "  <tbody>\n",
       "    <tr>\n",
       "      <th>71439</th>\n",
       "      <td>Battery Electric Vehicle (BEV)</td>\n",
       "      <td>2013</td>\n",
       "      <td>NISSAN</td>\n",
       "      <td>Leaf</td>\n",
       "      <td>Passenger</td>\n",
       "      <td>75</td>\n",
       "      <td>71450</td>\n",
       "      <td>Used</td>\n",
       "      <td>112</td>\n",
       "      <td>2018</td>\n",
       "    </tr>\n",
       "    <tr>\n",
       "      <th>108486</th>\n",
       "      <td>Battery Electric Vehicle (BEV)</td>\n",
       "      <td>2020</td>\n",
       "      <td>KIA</td>\n",
       "      <td>Niro</td>\n",
       "      <td>Passenger</td>\n",
       "      <td>239</td>\n",
       "      <td>121</td>\n",
       "      <td>New</td>\n",
       "      <td>121</td>\n",
       "      <td>2020</td>\n",
       "    </tr>\n",
       "    <tr>\n",
       "      <th>92294</th>\n",
       "      <td>Battery Electric Vehicle (BEV)</td>\n",
       "      <td>2022</td>\n",
       "      <td>TESLA</td>\n",
       "      <td>Model X</td>\n",
       "      <td>Passenger</td>\n",
       "      <td>0</td>\n",
       "      <td>2993</td>\n",
       "      <td>Used</td>\n",
       "      <td>123</td>\n",
       "      <td>2022</td>\n",
       "    </tr>\n",
       "    <tr>\n",
       "      <th>77378</th>\n",
       "      <td>Battery Electric Vehicle (BEV)</td>\n",
       "      <td>2018</td>\n",
       "      <td>NISSAN</td>\n",
       "      <td>Leaf</td>\n",
       "      <td>Passenger</td>\n",
       "      <td>151</td>\n",
       "      <td>98</td>\n",
       "      <td>New</td>\n",
       "      <td>134</td>\n",
       "      <td>2018</td>\n",
       "    </tr>\n",
       "    <tr>\n",
       "      <th>41177</th>\n",
       "      <td>Battery Electric Vehicle (BEV)</td>\n",
       "      <td>2014</td>\n",
       "      <td>NISSAN</td>\n",
       "      <td>Leaf</td>\n",
       "      <td>Passenger</td>\n",
       "      <td>84</td>\n",
       "      <td>61199</td>\n",
       "      <td>Used</td>\n",
       "      <td>150</td>\n",
       "      <td>2022</td>\n",
       "    </tr>\n",
       "    <tr>\n",
       "      <th>52222</th>\n",
       "      <td>Battery Electric Vehicle (BEV)</td>\n",
       "      <td>2021</td>\n",
       "      <td>PORSCHE</td>\n",
       "      <td>Taycan</td>\n",
       "      <td>Passenger</td>\n",
       "      <td>203</td>\n",
       "      <td>16</td>\n",
       "      <td>New</td>\n",
       "      <td>173</td>\n",
       "      <td>2021</td>\n",
       "    </tr>\n",
       "    <tr>\n",
       "      <th>10243</th>\n",
       "      <td>Battery Electric Vehicle (BEV)</td>\n",
       "      <td>2011</td>\n",
       "      <td>NISSAN</td>\n",
       "      <td>Leaf</td>\n",
       "      <td>Passenger</td>\n",
       "      <td>73</td>\n",
       "      <td>47652</td>\n",
       "      <td>Used</td>\n",
       "      <td>192</td>\n",
       "      <td>2021</td>\n",
       "    </tr>\n",
       "    <tr>\n",
       "      <th>9462</th>\n",
       "      <td>Battery Electric Vehicle (BEV)</td>\n",
       "      <td>2015</td>\n",
       "      <td>FIAT</td>\n",
       "      <td>500</td>\n",
       "      <td>Passenger</td>\n",
       "      <td>87</td>\n",
       "      <td>48000</td>\n",
       "      <td>Used</td>\n",
       "      <td>200</td>\n",
       "      <td>2022</td>\n",
       "    </tr>\n",
       "    <tr>\n",
       "      <th>24304</th>\n",
       "      <td>Battery Electric Vehicle (BEV)</td>\n",
       "      <td>2011</td>\n",
       "      <td>NISSAN</td>\n",
       "      <td>Leaf</td>\n",
       "      <td>Passenger</td>\n",
       "      <td>73</td>\n",
       "      <td>87000</td>\n",
       "      <td>Used</td>\n",
       "      <td>200</td>\n",
       "      <td>2022</td>\n",
       "    </tr>\n",
       "    <tr>\n",
       "      <th>46735</th>\n",
       "      <td>Battery Electric Vehicle (BEV)</td>\n",
       "      <td>2012</td>\n",
       "      <td>NISSAN</td>\n",
       "      <td>Leaf</td>\n",
       "      <td>Passenger</td>\n",
       "      <td>73</td>\n",
       "      <td>18000</td>\n",
       "      <td>Used</td>\n",
       "      <td>200</td>\n",
       "      <td>2017</td>\n",
       "    </tr>\n",
       "  </tbody>\n",
       "</table>\n",
       "</div>"
      ],
      "text/plain": [
       "       Clean Alternative Fuel Vehicle Type  Model Year     Make    Model  \\\n",
       "Car ID                                                                     \n",
       "71439       Battery Electric Vehicle (BEV)        2013   NISSAN     Leaf   \n",
       "108486      Battery Electric Vehicle (BEV)        2020      KIA     Niro   \n",
       "92294       Battery Electric Vehicle (BEV)        2022    TESLA  Model X   \n",
       "77378       Battery Electric Vehicle (BEV)        2018   NISSAN     Leaf   \n",
       "41177       Battery Electric Vehicle (BEV)        2014   NISSAN     Leaf   \n",
       "52222       Battery Electric Vehicle (BEV)        2021  PORSCHE   Taycan   \n",
       "10243       Battery Electric Vehicle (BEV)        2011   NISSAN     Leaf   \n",
       "9462        Battery Electric Vehicle (BEV)        2015     FIAT      500   \n",
       "24304       Battery Electric Vehicle (BEV)        2011   NISSAN     Leaf   \n",
       "46735       Battery Electric Vehicle (BEV)        2012   NISSAN     Leaf   \n",
       "\n",
       "       Vehicle Primary Use  Electric Range  Odometer Reading  \\\n",
       "Car ID                                                         \n",
       "71439            Passenger              75             71450   \n",
       "108486           Passenger             239               121   \n",
       "92294            Passenger               0              2993   \n",
       "77378            Passenger             151                98   \n",
       "41177            Passenger              84             61199   \n",
       "52222            Passenger             203                16   \n",
       "10243            Passenger              73             47652   \n",
       "9462             Passenger              87             48000   \n",
       "24304            Passenger              73             87000   \n",
       "46735            Passenger              73             18000   \n",
       "\n",
       "       New or Used Vehicle  Sale Price  Transaction Year  \n",
       "Car ID                                                    \n",
       "71439                 Used         112              2018  \n",
       "108486                 New         121              2020  \n",
       "92294                 Used         123              2022  \n",
       "77378                  New         134              2018  \n",
       "41177                 Used         150              2022  \n",
       "52222                  New         173              2021  \n",
       "10243                 Used         192              2021  \n",
       "9462                  Used         200              2022  \n",
       "24304                 Used         200              2022  \n",
       "46735                 Used         200              2017  "
      ]
     },
     "execution_count": 5,
     "metadata": {},
     "output_type": "execute_result"
    }
   ],
   "source": [
    "#Lists the top 10 cheapest cars\n",
    "cars_df.nsmallest(10, ['Sale Price'])"
   ]
  },
  {
   "cell_type": "markdown",
   "metadata": {
    "colab": {},
    "colab_type": "code",
    "id": "jwOMv33Jgdpp"
   },
   "source": [
    "Observation: Some interesting observations here. We can see that there are relatively new electric cars being sold for very cheap. It is highly unbelievable to be buying or selling electric cars for such prices. What we are guessing is that:\n",
    "- There could be data entry mistakes\n",
    "- People might be trying to pay less taxes by reporting lower numbers\n",
    "- Parties that know eachother gifting cars to one another for very low prices <br>\n",
    "- We are not aware of the condition of the cars so they might be in brutal conditions(accidents, salvaged, etc.)\n",
    "\n",
    "We cannot tell for certain why these cars are being sold very cheap but those are the guesses we can make. Thus we are going to be wary of the integrity of our predictions knowing about this observation."
   ]
  },
  {
   "cell_type": "code",
   "execution_count": 6,
   "metadata": {
    "colab": {},
    "colab_type": "code",
    "id": "jwOMv33Jgdpp"
   },
   "outputs": [
    {
     "data": {
      "text/html": [
       "<div>\n",
       "<style scoped>\n",
       "    .dataframe tbody tr th:only-of-type {\n",
       "        vertical-align: middle;\n",
       "    }\n",
       "\n",
       "    .dataframe tbody tr th {\n",
       "        vertical-align: top;\n",
       "    }\n",
       "\n",
       "    .dataframe thead th {\n",
       "        text-align: right;\n",
       "    }\n",
       "</style>\n",
       "<table border=\"1\" class=\"dataframe\">\n",
       "  <thead>\n",
       "    <tr style=\"text-align: right;\">\n",
       "      <th></th>\n",
       "      <th>Clean Alternative Fuel Vehicle Type</th>\n",
       "      <th>Model Year</th>\n",
       "      <th>Make</th>\n",
       "      <th>Model</th>\n",
       "      <th>Vehicle Primary Use</th>\n",
       "      <th>Electric Range</th>\n",
       "      <th>Odometer Reading</th>\n",
       "      <th>New or Used Vehicle</th>\n",
       "      <th>Sale Price</th>\n",
       "      <th>Transaction Year</th>\n",
       "    </tr>\n",
       "    <tr>\n",
       "      <th>Car ID</th>\n",
       "      <th></th>\n",
       "      <th></th>\n",
       "      <th></th>\n",
       "      <th></th>\n",
       "      <th></th>\n",
       "      <th></th>\n",
       "      <th></th>\n",
       "      <th></th>\n",
       "      <th></th>\n",
       "      <th></th>\n",
       "    </tr>\n",
       "  </thead>\n",
       "  <tbody>\n",
       "    <tr>\n",
       "      <th>92186</th>\n",
       "      <td>Battery Electric Vehicle (BEV)</td>\n",
       "      <td>2021</td>\n",
       "      <td>PORSCHE</td>\n",
       "      <td>Taycan</td>\n",
       "      <td>Passenger</td>\n",
       "      <td>0</td>\n",
       "      <td>1554</td>\n",
       "      <td>Used</td>\n",
       "      <td>269995</td>\n",
       "      <td>2022</td>\n",
       "    </tr>\n",
       "    <tr>\n",
       "      <th>1264</th>\n",
       "      <td>Battery Electric Vehicle (BEV)</td>\n",
       "      <td>2020</td>\n",
       "      <td>PORSCHE</td>\n",
       "      <td>Taycan</td>\n",
       "      <td>Passenger</td>\n",
       "      <td>192</td>\n",
       "      <td>18</td>\n",
       "      <td>New</td>\n",
       "      <td>260950</td>\n",
       "      <td>2019</td>\n",
       "    </tr>\n",
       "    <tr>\n",
       "      <th>21879</th>\n",
       "      <td>Battery Electric Vehicle (BEV)</td>\n",
       "      <td>2022</td>\n",
       "      <td>PORSCHE</td>\n",
       "      <td>Taycan</td>\n",
       "      <td>Passenger</td>\n",
       "      <td>0</td>\n",
       "      <td>11</td>\n",
       "      <td>New</td>\n",
       "      <td>246920</td>\n",
       "      <td>2022</td>\n",
       "    </tr>\n",
       "    <tr>\n",
       "      <th>31488</th>\n",
       "      <td>Battery Electric Vehicle (BEV)</td>\n",
       "      <td>2022</td>\n",
       "      <td>PORSCHE</td>\n",
       "      <td>Taycan</td>\n",
       "      <td>Passenger</td>\n",
       "      <td>0</td>\n",
       "      <td>48</td>\n",
       "      <td>New</td>\n",
       "      <td>229320</td>\n",
       "      <td>2022</td>\n",
       "    </tr>\n",
       "    <tr>\n",
       "      <th>51512</th>\n",
       "      <td>Battery Electric Vehicle (BEV)</td>\n",
       "      <td>2021</td>\n",
       "      <td>PORSCHE</td>\n",
       "      <td>Taycan</td>\n",
       "      <td>Passenger</td>\n",
       "      <td>192</td>\n",
       "      <td>14</td>\n",
       "      <td>New</td>\n",
       "      <td>227830</td>\n",
       "      <td>2021</td>\n",
       "    </tr>\n",
       "    <tr>\n",
       "      <th>27522</th>\n",
       "      <td>Battery Electric Vehicle (BEV)</td>\n",
       "      <td>2020</td>\n",
       "      <td>PORSCHE</td>\n",
       "      <td>Taycan</td>\n",
       "      <td>Passenger</td>\n",
       "      <td>192</td>\n",
       "      <td>60</td>\n",
       "      <td>New</td>\n",
       "      <td>226970</td>\n",
       "      <td>2021</td>\n",
       "    </tr>\n",
       "    <tr>\n",
       "      <th>46684</th>\n",
       "      <td>Battery Electric Vehicle (BEV)</td>\n",
       "      <td>2021</td>\n",
       "      <td>PORSCHE</td>\n",
       "      <td>Taycan</td>\n",
       "      <td>Passenger</td>\n",
       "      <td>0</td>\n",
       "      <td>29</td>\n",
       "      <td>New</td>\n",
       "      <td>223550</td>\n",
       "      <td>2021</td>\n",
       "    </tr>\n",
       "    <tr>\n",
       "      <th>49846</th>\n",
       "      <td>Battery Electric Vehicle (BEV)</td>\n",
       "      <td>2021</td>\n",
       "      <td>PORSCHE</td>\n",
       "      <td>Taycan</td>\n",
       "      <td>Passenger</td>\n",
       "      <td>192</td>\n",
       "      <td>274</td>\n",
       "      <td>New</td>\n",
       "      <td>221720</td>\n",
       "      <td>2021</td>\n",
       "    </tr>\n",
       "    <tr>\n",
       "      <th>34278</th>\n",
       "      <td>Battery Electric Vehicle (BEV)</td>\n",
       "      <td>2021</td>\n",
       "      <td>PORSCHE</td>\n",
       "      <td>Taycan</td>\n",
       "      <td>Passenger</td>\n",
       "      <td>192</td>\n",
       "      <td>127</td>\n",
       "      <td>New</td>\n",
       "      <td>221620</td>\n",
       "      <td>2022</td>\n",
       "    </tr>\n",
       "    <tr>\n",
       "      <th>102405</th>\n",
       "      <td>Battery Electric Vehicle (BEV)</td>\n",
       "      <td>2020</td>\n",
       "      <td>PORSCHE</td>\n",
       "      <td>Taycan</td>\n",
       "      <td>Passenger</td>\n",
       "      <td>192</td>\n",
       "      <td>18</td>\n",
       "      <td>New</td>\n",
       "      <td>220940</td>\n",
       "      <td>2020</td>\n",
       "    </tr>\n",
       "  </tbody>\n",
       "</table>\n",
       "</div>"
      ],
      "text/plain": [
       "       Clean Alternative Fuel Vehicle Type  Model Year     Make   Model  \\\n",
       "Car ID                                                                    \n",
       "92186       Battery Electric Vehicle (BEV)        2021  PORSCHE  Taycan   \n",
       "1264        Battery Electric Vehicle (BEV)        2020  PORSCHE  Taycan   \n",
       "21879       Battery Electric Vehicle (BEV)        2022  PORSCHE  Taycan   \n",
       "31488       Battery Electric Vehicle (BEV)        2022  PORSCHE  Taycan   \n",
       "51512       Battery Electric Vehicle (BEV)        2021  PORSCHE  Taycan   \n",
       "27522       Battery Electric Vehicle (BEV)        2020  PORSCHE  Taycan   \n",
       "46684       Battery Electric Vehicle (BEV)        2021  PORSCHE  Taycan   \n",
       "49846       Battery Electric Vehicle (BEV)        2021  PORSCHE  Taycan   \n",
       "34278       Battery Electric Vehicle (BEV)        2021  PORSCHE  Taycan   \n",
       "102405      Battery Electric Vehicle (BEV)        2020  PORSCHE  Taycan   \n",
       "\n",
       "       Vehicle Primary Use  Electric Range  Odometer Reading  \\\n",
       "Car ID                                                         \n",
       "92186            Passenger               0              1554   \n",
       "1264             Passenger             192                18   \n",
       "21879            Passenger               0                11   \n",
       "31488            Passenger               0                48   \n",
       "51512            Passenger             192                14   \n",
       "27522            Passenger             192                60   \n",
       "46684            Passenger               0                29   \n",
       "49846            Passenger             192               274   \n",
       "34278            Passenger             192               127   \n",
       "102405           Passenger             192                18   \n",
       "\n",
       "       New or Used Vehicle  Sale Price  Transaction Year  \n",
       "Car ID                                                    \n",
       "92186                 Used      269995              2022  \n",
       "1264                   New      260950              2019  \n",
       "21879                  New      246920              2022  \n",
       "31488                  New      229320              2022  \n",
       "51512                  New      227830              2021  \n",
       "27522                  New      226970              2021  \n",
       "46684                  New      223550              2021  \n",
       "49846                  New      221720              2021  \n",
       "34278                  New      221620              2022  \n",
       "102405                 New      220940              2020  "
      ]
     },
     "execution_count": 6,
     "metadata": {},
     "output_type": "execute_result"
    }
   ],
   "source": [
    "#Lists the top 10 expensive cars\n",
    "cars_df.nlargest(10, ['Sale Price'])"
   ]
  },
  {
   "cell_type": "markdown",
   "metadata": {
    "colab": {},
    "colab_type": "code",
    "id": "jwOMv33Jgdpp"
   },
   "source": [
    "Observation: No surprise here. We can see that Porsche Taycan is for certain one of the most expensive electric cars being bought and sold in this dataset."
   ]
  },
  {
   "cell_type": "code",
   "execution_count": 7,
   "metadata": {
    "colab": {},
    "colab_type": "code",
    "id": "jwOMv33Jgdpp"
   },
   "outputs": [
    {
     "data": {
      "image/png": "[encoded data removed]",
      "text/plain": [
       "<Figure size 640x480 with 1 Axes>"
      ]
     },
     "metadata": {},
     "output_type": "display_data"
    }
   ],
   "source": [
    "import matplotlib.pyplot as plt\n",
    "\n",
    "#New and used cars distribution\n",
    "used_cars_count = cars_df[cars_df['New or Used Vehicle'] == 'Used'].groupby('Make')['New or Used Vehicle'].count()\n",
    "new_cars_count = cars_df[cars_df['New or Used Vehicle'] == 'New'].groupby('Make')['New or Used Vehicle'].count()\n",
    "counts_df = pd.concat([used_cars_count, new_cars_count], axis=1, keys=['Used', 'New'])\n",
    "colors = ['#34C4E7', '#DC2020']\n",
    "ax = counts_df.plot(kind='bar', stacked=True, color=colors)\n",
    "plt.xlabel('Car Make')\n",
    "plt.ylabel('Count')\n",
    "plt.title('Used and New Cars by Make')\n",
    "plt.show()"
   ]
  },
  {
   "cell_type": "markdown",
   "metadata": {
    "colab": {},
    "colab_type": "code",
    "id": "jwOMv33Jgdpp"
   },
   "source": [
    "Observation: We can see that the car makes are heavily dominated by TESLA cars. NISSAN comes in second, and CHEVROLET is third. There are also more new TESLA cars than used ones. This is not the case for NISSAN however, as there are more used NISSAN electric cars than newer ones. Overall, there are much more newer cars than used cars."
   ]
  },
  {
   "cell_type": "code",
   "execution_count": 8,
   "metadata": {
    "colab": {},
    "colab_type": "code",
    "id": "jwOMv33Jgdpp"
   },
   "outputs": [
    {
     "data": {
      "text/plain": [
       "(0.0, 200000.0)"
      ]
     },
     "execution_count": 8,
     "metadata": {},
     "output_type": "execute_result"
    },
    {
     "data": {
      "image/png": "[encoded data removed]",
      "text/plain": [
       "<Figure size 640x480 with 1 Axes>"
      ]
     },
     "metadata": {},
     "output_type": "display_data"
    }
   ],
   "source": [
    "import matplotlib.pyplot as plt\n",
    "\n",
    "cars_df = cars_df[cars_df[\"Sale Price\"] <= 300000]\n",
    "\n",
    "plt.hist2d(cars_df['Model Year'], cars_df['Sale Price'])\n",
    "plt.xlim(2010, 2023)\n",
    "plt.ylim(0, 200000)\n"
   ]
  },
  {
   "cell_type": "markdown",
   "metadata": {
    "colab": {},
    "colab_type": "code",
    "id": "jwOMv33Jgdpp"
   },
   "source": [
    "Observation: We can note a couple trends in this heat map. Firstly, as the year increases, the frequency seems to increase across all price ranges. This matches our general knowledge of the industry, as electric vehicles have become much more common and accessible over the past couple of years. Furthermore, we can also note the market and sale price generally increase over the years."
   ]
  },
  {
   "cell_type": "code",
   "execution_count": 9,
   "metadata": {
    "colab": {},
    "colab_type": "code",
    "id": "jwOMv33Jgdpp"
   },
   "outputs": [
    {
     "data": {
      "text/plain": [
       "<AxesSubplot:xlabel='Make'>"
      ]
     },
     "execution_count": 9,
     "metadata": {},
     "output_type": "execute_result"
    },
    {
     "data": {
      "image/png": "[encoded data removed]",
      "text/plain": [
       "<Figure size 640x480 with 1 Axes>"
      ]
     },
     "metadata": {},
     "output_type": "display_data"
    }
   ],
   "source": [
    "pd.pivot_table(data=cars_df, values = 'Sale Price', index='Make', aggfunc=np.mean).plot(kind='bar')"
   ]
  },
  {
   "cell_type": "markdown",
   "metadata": {
    "colab": {},
    "colab_type": "code",
    "id": "jwOMv33Jgdpp"
   },
   "source": [
    "Observation: As we can see, our two peaks in terms of sales price are for Lucid Motors vehicles and Porsche vehicles. This is consistent in terms of our background domain knowledge of the subject as Lucid Motors and Porsche are both known for premium high end luxury vehicles while companies such as Fiat and Toyota are known to have affordable everyday consumer vehicles."
   ]
  },
  {
   "cell_type": "code",
   "execution_count": 10,
   "metadata": {
    "colab": {},
    "colab_type": "code",
    "id": "jwOMv33Jgdpp"
   },
   "outputs": [
    {
     "data": {
      "text/plain": [
       "(-2.0, 150000.0)"
      ]
     },
     "execution_count": 10,
     "metadata": {},
     "output_type": "execute_result"
    },
    {
     "data": {
      "image/png": "[encoded data removed]",
      "text/plain": [
       "<Figure size 500x500 with 1 Axes>"
      ]
     },
     "metadata": {},
     "output_type": "display_data"
    }
   ],
   "source": [
    "import pandas as pd\n",
    "import matplotlib.pyplot as plt\n",
    "import seaborn as sns\n",
    "%matplotlib inline\n",
    "\n",
    "cars_smaller_sample = cars_df.iloc[::100, :]\n",
    "cars_smaller_sample = cars_smaller_sample.iloc[:,[1,2,3,6,7,8,9]]\n",
    "\n",
    "sns.lmplot(x='Odometer Reading', y='Sale Price',data=cars_smaller_sample)\n",
    "plt.title('Odometer Reading and Sales Price')\n",
    "plt.ylim(-2,150000)"
   ]
  },
  {
   "cell_type": "markdown",
   "metadata": {
    "colab": {},
    "colab_type": "code",
    "id": "jwOMv33Jgdpp"
   },
   "source": [
    "Observation: The first thing to note is that this scatter plot was heavily populated. Thus we created a smaller sample represeting the entire population in order to make it more visually appealing. We took every 100th car, reducing the population by a factor of 100 to get this scatter plot. We can see that the line of best fit is showing us a negative correlation. This is telling us that our intuition is right that cars with higher mileage and more expensive than cars with lower mileage and that mileage plays a very big factor when it comes to the price of the car. Also another quick observation is that there are a lot of cars on the 0 (or very close to it) odometer reading which reinfornces the previous observations that most cars here have less mileage on them."
   ]
  },
  {
   "cell_type": "code",
   "execution_count": 11,
   "metadata": {
    "colab": {},
    "colab_type": "code",
    "id": "jwOMv33Jgdpp"
   },
   "outputs": [
    {
     "name": "stdout",
     "output_type": "stream",
     "text": [
      "Pearson correlation coefficient: -0.4267779321914627\n"
     ]
    }
   ],
   "source": [
    "#Odomoter Reading and Sale Price\n",
    "corr = cars_df[\"Odometer Reading\"].corr(cars_df[\"Sale Price\"], method=\"pearson\")\n",
    "\n",
    "# Print the correlation coefficient\n",
    "print(\"Pearson correlation coefficient:\", corr)"
   ]
  },
  {
   "cell_type": "markdown",
   "metadata": {
    "colab": {},
    "colab_type": "code",
    "id": "jwOMv33Jgdpp"
   },
   "source": [
    "Observation: This is just an extended observation of the scatter plot. As you can see there is a negative correlation between mileage and sale price. Generally speaking, anything over 0.2 (or under -0.2) in Pearson correlation coefficient is considered string correlation and here we can see about -0.4 which is very telling of mileage and sale price relationship."
   ]
  },
  {
   "cell_type": "code",
   "execution_count": 12,
   "metadata": {
    "colab": {},
    "colab_type": "code",
    "id": "jwOMv33Jgdpp"
   },
   "outputs": [
    {
     "name": "stdout",
     "output_type": "stream",
     "text": [
      "Pearson correlation coefficient: 0.4968626076855328\n"
     ]
    }
   ],
   "source": [
    "#Model Year and Sale Price\n",
    "corr = cars_df[\"Model Year\"].corr(cars_df[\"Sale Price\"], method=\"pearson\")\n",
    "\n",
    "# Print the correlation coefficient\n",
    "print(\"Pearson correlation coefficient:\", corr)"
   ]
  },
  {
   "cell_type": "markdown",
   "metadata": {
    "colab": {},
    "colab_type": "code",
    "id": "jwOMv33Jgdpp"
   },
   "source": [
    "Observation: Since our Pearson correlation is a value of about 0.497, we can assume that our data has a relatively high positive correlation. From this data, it is safe to conclude that Model Year and Sale Price have a strong positive relationship with one another."
   ]
  },
  {
   "cell_type": "code",
   "execution_count": 130,
   "metadata": {
    "colab": {},
    "colab_type": "code",
    "id": "jwOMv33Jgdpp"
   },
   "outputs": [
    {
     "data": {
      "text/html": [
       "<div>\n",
       "<style scoped>\n",
       "    .dataframe tbody tr th:only-of-type {\n",
       "        vertical-align: middle;\n",
       "    }\n",
       "\n",
       "    .dataframe tbody tr th {\n",
       "        vertical-align: top;\n",
       "    }\n",
       "\n",
       "    .dataframe thead th {\n",
       "        text-align: right;\n",
       "    }\n",
       "</style>\n",
       "<table border=\"1\" class=\"dataframe\">\n",
       "  <thead>\n",
       "    <tr style=\"text-align: right;\">\n",
       "      <th></th>\n",
       "      <th>Model Year</th>\n",
       "      <th>Electric Range</th>\n",
       "      <th>Odometer Reading</th>\n",
       "      <th>Sale Price</th>\n",
       "      <th>Transaction Year</th>\n",
       "    </tr>\n",
       "  </thead>\n",
       "  <tbody>\n",
       "    <tr>\n",
       "      <th>count</th>\n",
       "      <td>109267.000000</td>\n",
       "      <td>109267.000000</td>\n",
       "      <td>109267.000000</td>\n",
       "      <td>109267.000000</td>\n",
       "      <td>109267.000000</td>\n",
       "    </tr>\n",
       "    <tr>\n",
       "      <th>mean</th>\n",
       "      <td>2019.398364</td>\n",
       "      <td>105.837234</td>\n",
       "      <td>7397.968005</td>\n",
       "      <td>50878.277019</td>\n",
       "      <td>2020.342226</td>\n",
       "    </tr>\n",
       "    <tr>\n",
       "      <th>std</th>\n",
       "      <td>2.718412</td>\n",
       "      <td>108.772941</td>\n",
       "      <td>16151.611811</td>\n",
       "      <td>26417.041784</td>\n",
       "      <td>1.708651</td>\n",
       "    </tr>\n",
       "    <tr>\n",
       "      <th>min</th>\n",
       "      <td>2010.000000</td>\n",
       "      <td>0.000000</td>\n",
       "      <td>0.000000</td>\n",
       "      <td>1100.000000</td>\n",
       "      <td>2016.000000</td>\n",
       "    </tr>\n",
       "    <tr>\n",
       "      <th>25%</th>\n",
       "      <td>2018.000000</td>\n",
       "      <td>0.000000</td>\n",
       "      <td>15.000000</td>\n",
       "      <td>35300.000000</td>\n",
       "      <td>2019.000000</td>\n",
       "    </tr>\n",
       "    <tr>\n",
       "      <th>50%</th>\n",
       "      <td>2020.000000</td>\n",
       "      <td>84.000000</td>\n",
       "      <td>32.000000</td>\n",
       "      <td>51940.000000</td>\n",
       "      <td>2021.000000</td>\n",
       "    </tr>\n",
       "    <tr>\n",
       "      <th>75%</th>\n",
       "      <td>2022.000000</td>\n",
       "      <td>215.000000</td>\n",
       "      <td>3033.500000</td>\n",
       "      <td>62290.000000</td>\n",
       "      <td>2022.000000</td>\n",
       "    </tr>\n",
       "    <tr>\n",
       "      <th>max</th>\n",
       "      <td>2023.000000</td>\n",
       "      <td>337.000000</td>\n",
       "      <td>149000.000000</td>\n",
       "      <td>269995.000000</td>\n",
       "      <td>2023.000000</td>\n",
       "    </tr>\n",
       "  </tbody>\n",
       "</table>\n",
       "</div>"
      ],
      "text/plain": [
       "          Model Year  Electric Range  Odometer Reading     Sale Price  \\\n",
       "count  109267.000000   109267.000000     109267.000000  109267.000000   \n",
       "mean     2019.398364      105.837234       7397.968005   50878.277019   \n",
       "std         2.718412      108.772941      16151.611811   26417.041784   \n",
       "min      2010.000000        0.000000          0.000000    1100.000000   \n",
       "25%      2018.000000        0.000000         15.000000   35300.000000   \n",
       "50%      2020.000000       84.000000         32.000000   51940.000000   \n",
       "75%      2022.000000      215.000000       3033.500000   62290.000000   \n",
       "max      2023.000000      337.000000     149000.000000  269995.000000   \n",
       "\n",
       "       Transaction Year  \n",
       "count     109267.000000  \n",
       "mean        2020.342226  \n",
       "std            1.708651  \n",
       "min         2016.000000  \n",
       "25%         2019.000000  \n",
       "50%         2021.000000  \n",
       "75%         2022.000000  \n",
       "max         2023.000000  "
      ]
     },
     "execution_count": 130,
     "metadata": {},
     "output_type": "execute_result"
    }
   ],
   "source": [
    "cars_df.describe()"
   ]
  },
  {
   "cell_type": "markdown",
   "metadata": {
    "colab": {},
    "colab_type": "code",
    "id": "jwOMv33Jgdpp"
   },
   "source": [
    "Table observation:\n",
    "Furthermore, the average and standard deviation of the sale price shows us that most of our data is within the 25000-75000 range. This also matches our domain knowledge of the industry, as most electric vehicles sold fall within this range. This can be confirmed on various online vehicle purchasing websites as well as the original manufacturer's suggested retail price.\n",
    "The median of the odometer reading is only 32 miles while the mean is 7468. Since most of the cars are sold new, this creates a strong skew towards the lower values. This is represented in our data with such a low median with a high mean."
   ]
  },
  {
   "cell_type": "markdown",
   "metadata": {
    "colab": {},
    "colab_type": "code",
    "id": "-Z8RozqFgdqQ"
   },
   "source": [
    "## Feature Selection"
   ]
  },
  {
   "cell_type": "markdown",
   "metadata": {},
   "source": [
    "What we used for feature selection was domain knowledge. Originally, we planned to use a more mathematical approach using Pearson correlation and the chi-sqaured test but we found flaws tha would arise from such approach. One flaw is that, in some cases, using one feature by itself is not enought to find a accurate correlation with an output. Lets say we have 3 different features, A B and C. A and B as well as B and C are not correlated, but A+B can be correlated with C. Applying this to the context of our data, let our 3 features be make, electric range and sale price. Make does not correlate to electric range and electric range does not correlate with sale price, but make and electric range are correlated with sale price. We would not be able to capture this correlation with Pearson or chi squared, so we found domain knowledge to be our best option since there are well known and consistent trends in the car market.\n",
    "\n",
    "The features we used are make, model, year and odometer reading. Make was chosen since it is well known that the price of a car is strongly correlated with the make of a car, a car made by Mercedes will typically always cost more than a car from Toyota. Our next feature was the model of the car. Car companies always sell different models that target different price ranges, typically the latter having more/better features, so price between different models can vary drastically. Using Tesla as an example, their Model 3 is made to be more accessible to the overall population and its price reflects so. If we look at their Model X, it is more targetted for higher-end consumers and and its price is therefore higher. Finally we used odometer reading as a cars price will always be reflected by its odometer reading. We use year as it is a good metric to gauge the relevance of a car’s features(i.e 2001 Toyota with just radio and cassette vs 2023 that has Carplay and Blindspot sensors). It is a good indication of its condition, and typically people will always pay more for a car that has been used less."
   ]
  },
  {
   "cell_type": "code",
   "execution_count": 14,
   "metadata": {},
   "outputs": [
    {
     "name": "stdout",
     "output_type": "stream",
     "text": [
      "Pearson correlation coefficient: 0.4968626076855328\n"
     ]
    }
   ],
   "source": [
    "#Model Year and Sale Price\n",
    "corr = cars_df[\"Model Year\"].corr(cars_df[\"Sale Price\"], method=\"pearson\")\n",
    "\n",
    "# Print the correlation coefficient\n",
    "print(\"Pearson correlation coefficient:\", corr)"
   ]
  },
  {
   "cell_type": "code",
   "execution_count": 15,
   "metadata": {},
   "outputs": [
    {
     "name": "stdout",
     "output_type": "stream",
     "text": [
      "Pearson correlation coefficient: -0.4267779321914627\n"
     ]
    }
   ],
   "source": [
    "#Odomoter Reading and Sale Price\n",
    "corr = cars_df[\"Odometer Reading\"].corr(cars_df[\"Sale Price\"], method=\"pearson\")\n",
    "\n",
    "# Print the correlation coefficient\n",
    "print(\"Pearson correlation coefficient:\", corr)"
   ]
  },
  {
   "cell_type": "code",
   "execution_count": 16,
   "metadata": {},
   "outputs": [
    {
     "name": "stdout",
     "output_type": "stream",
     "text": [
      "Pearson correlation coefficient: 0.21640344422053712\n"
     ]
    }
   ],
   "source": [
    "#Transaction Year and Sale Price\n",
    "corr = cars_df[\"Transaction Year\"].corr(cars_df[\"Sale Price\"], method=\"pearson\")\n",
    "\n",
    "# Print the correlation coefficient\n",
    "print(\"Pearson correlation coefficient:\", corr)"
   ]
  },
  {
   "cell_type": "markdown",
   "metadata": {},
   "source": [
    "Above are some examples of what we were initially going to use in order to find the top features to use."
   ]
  },
  {
   "cell_type": "markdown",
   "metadata": {
    "colab": {},
    "colab_type": "code",
    "id": "-Z8RozqFgdqQ"
   },
   "source": [
    "## K-Nearest Neighbors"
   ]
  },
  {
   "cell_type": "markdown",
   "metadata": {},
   "source": [
    "We are first going to only use 2 features and try to predict the Sale Price of the Electric vehicles. This way we can visualize how K-NN works and we can grasp a better understanding of the process instead of just simply using sklearn library. Let's focus on just two features first: Model Year and odometer reading. We are going to plot the training data, using a color gradient to represent the target Sale Price. Notice that the Sale Price is shown using log which is done for the sole purpose of visualization purposes (to make the colors more appealing)."
   ]
  },
  {
   "cell_type": "code",
   "execution_count": 126,
   "metadata": {},
   "outputs": [
    {
     "data": {
      "image/png": "[encoded data removed]",
      "text/plain": [
       "<Figure size 640x480 with 2 Axes>"
      ]
     },
     "metadata": {},
     "output_type": "display_data"
    }
   ],
   "source": [
    "import matplotlib.cm as cm\n",
    "\n",
    "ax = cars_train.plot.scatter(x=\"Model Year\", y=\"Odometer Reading\", c=\"log(Sale Price)\", cmap=cm.YlOrRd)"
   ]
  },
  {
   "cell_type": "markdown",
   "metadata": {
    "colab": {},
    "colab_type": "code",
    "id": "-Z8RozqFgdqQ"
   },
   "source": [
    "We can observe that cars that are newer and have low mileage on this scatterplot are more expensive. Similarly, older cars and cars with more mileage are cheaper. This insight is the basis of the K-NN algorithm for predicting the car price. The KNN regression algorithm can be summarized as follows:\n",
    "1. Determine the $k$ closest points in the training data to the new point that you want to predict for, based on some distance metric on the features.\n",
    "2. The predicted label of the new point is the mean (or median) of the labels of the $k$ closest points.\n",
    "\n",
    "Now we will implement this in code. First, we will need to scale our features. We can either use standardization or normalization. Since we know that normalization is appropriate for data with a skewed distribution and while standardization is appropriate for data with a Gaussian distribution, we will first take a look at our data to better decide what scaling method to use. "
   ]
  },
  {
   "cell_type": "code",
   "execution_count": 18,
   "metadata": {},
   "outputs": [
    {
     "data": {
      "text/plain": [
       "Text(0, 0.5, 'Frequency')"
      ]
     },
     "execution_count": 18,
     "metadata": {},
     "output_type": "execute_result"
    },
    {
     "data": {
      "image/png": "[encoded data removed]",
      "text/plain": [
       "<Figure size 640x480 with 1 Axes>"
      ]
     },
     "metadata": {},
     "output_type": "display_data"
    }
   ],
   "source": [
    "cars_df[\"Model Year\"].hist()\n",
    "plt.title(\"Model Year\")\n",
    "plt.xlabel(\"Model Year\")\n",
    "plt.ylabel(\"Frequency\")"
   ]
  },
  {
   "cell_type": "code",
   "execution_count": 19,
   "metadata": {},
   "outputs": [
    {
     "data": {
      "text/plain": [
       "Text(0, 0.5, 'Frequency')"
      ]
     },
     "execution_count": 19,
     "metadata": {},
     "output_type": "execute_result"
    },
    {
     "data": {
      "image/png": "[encoded data removed]",
      "text/plain": [
       "<Figure size 640x480 with 1 Axes>"
      ]
     },
     "metadata": {},
     "output_type": "display_data"
    }
   ],
   "source": [
    "cars_df[\"Odometer Reading\"].hist()\n",
    "plt.title(\"Odometer Reading\")\n",
    "plt.xlabel(\"Odometer Reading\")\n",
    "plt.ylabel(\"Frequency\")"
   ]
  },
  {
   "cell_type": "markdown",
   "metadata": {},
   "source": [
    "We can observe that the data is not following a gaussian distribution thus we will be scaling the data using the method of normalization."
   ]
  },
  {
   "cell_type": "code",
   "execution_count": 20,
   "metadata": {},
   "outputs": [],
   "source": [
    "X_train = cars_train[[\"Model Year\", \"Odometer Reading\"]]\n",
    "y_train = cars_train[\"log(Sale Price)\"]\n",
    "\n",
    "# Normalize the features\n",
    "X_train_min = X_train.min()\n",
    "X_train_max = X_train.max()\n",
    "X_train_nr = (X_train - X_train_min) / (X_train_max - X_train_min)"
   ]
  },
  {
   "cell_type": "markdown",
   "metadata": {},
   "source": [
    "Now, we get the features for the new observation (i.e., the last row which is 2021 with 13 miles), normalizing it in the same way."
   ]
  },
  {
   "cell_type": "code",
   "execution_count": 21,
   "metadata": {},
   "outputs": [
    {
     "data": {
      "text/plain": [
       "Model Year          0.913043\n",
       "Odometer Reading    0.000064\n",
       "dtype: object"
      ]
     },
     "execution_count": 21,
     "metadata": {},
     "output_type": "execute_result"
    }
   ],
   "source": [
    "x_new = cars_test.loc[109428, [\"Model Year\", \"Odometer Reading\"]]\n",
    "\n",
    "x_new_nr = (x_new - X_train_min) / (X_train_max - X_train_min)\n",
    "x_new_nr"
   ]
  },
  {
   "cell_type": "markdown",
   "metadata": {},
   "source": [
    "Now we calculate the (Euclidean) distances between the 2021 car with 13 miles and the cars in the training data."
   ]
  },
  {
   "cell_type": "code",
   "execution_count": 22,
   "metadata": {},
   "outputs": [
    {
     "data": {
      "text/plain": [
       "Car ID\n",
       "1         0.354048\n",
       "2         0.130435\n",
       "3         0.086957\n",
       "4         0.339588\n",
       "5         0.043478\n",
       "            ...   \n",
       "99996     0.192627\n",
       "99997     0.086957\n",
       "99998     0.086957\n",
       "99999     0.109915\n",
       "100000    0.043478\n",
       "Length: 100000, dtype: float64"
      ]
     },
     "execution_count": 22,
     "metadata": {},
     "output_type": "execute_result"
    }
   ],
   "source": [
    "dists = np.sqrt(((X_train_nr - x_new_nr) ** 2).sum(axis=1))\n",
    "dists"
   ]
  },
  {
   "cell_type": "markdown",
   "metadata": {},
   "source": [
    "Now, we sort the distances. The first 5 of these are the nearest neighbors. To get the year of these nearest neighbors, we get the index."
   ]
  },
  {
   "cell_type": "code",
   "execution_count": 23,
   "metadata": {},
   "outputs": [
    {
     "data": {
      "text/plain": [
       "Int64Index([ 2679, 39908, 81211, 81217, 62217, 27725, 48584, 39748, 29974,\n",
       "            16632,\n",
       "            ...\n",
       "            53748, 15613, 24619, 82690, 11592, 67136, 16179, 58737, 96071,\n",
       "            67100],\n",
       "           dtype='int64', name='Car ID', length=300)"
      ]
     },
     "execution_count": 23,
     "metadata": {},
     "output_type": "execute_result"
    }
   ],
   "source": [
    "i_nearest = dists.sort_values().index[:300]\n",
    "i_nearest"
   ]
  },
  {
   "cell_type": "markdown",
   "metadata": {},
   "source": [
    "We can look up these years in the training data."
   ]
  },
  {
   "cell_type": "code",
   "execution_count": 24,
   "metadata": {},
   "outputs": [
    {
     "data": {
      "text/html": [
       "<div>\n",
       "<style scoped>\n",
       "    .dataframe tbody tr th:only-of-type {\n",
       "        vertical-align: middle;\n",
       "    }\n",
       "\n",
       "    .dataframe tbody tr th {\n",
       "        vertical-align: top;\n",
       "    }\n",
       "\n",
       "    .dataframe thead th {\n",
       "        text-align: right;\n",
       "    }\n",
       "</style>\n",
       "<table border=\"1\" class=\"dataframe\">\n",
       "  <thead>\n",
       "    <tr style=\"text-align: right;\">\n",
       "      <th></th>\n",
       "      <th>Clean Alternative Fuel Vehicle Type</th>\n",
       "      <th>Model Year</th>\n",
       "      <th>Make</th>\n",
       "      <th>Model</th>\n",
       "      <th>Vehicle Primary Use</th>\n",
       "      <th>Electric Range</th>\n",
       "      <th>Odometer Reading</th>\n",
       "      <th>New or Used Vehicle</th>\n",
       "      <th>Sale Price</th>\n",
       "      <th>Transaction Year</th>\n",
       "      <th>log(Sale Price)</th>\n",
       "    </tr>\n",
       "    <tr>\n",
       "      <th>Car ID</th>\n",
       "      <th></th>\n",
       "      <th></th>\n",
       "      <th></th>\n",
       "      <th></th>\n",
       "      <th></th>\n",
       "      <th></th>\n",
       "      <th></th>\n",
       "      <th></th>\n",
       "      <th></th>\n",
       "      <th></th>\n",
       "      <th></th>\n",
       "    </tr>\n",
       "  </thead>\n",
       "  <tbody>\n",
       "    <tr>\n",
       "      <th>2679</th>\n",
       "      <td>Battery Electric Vehicle (BEV)</td>\n",
       "      <td>2021</td>\n",
       "      <td>BMW</td>\n",
       "      <td>i3</td>\n",
       "      <td>Passenger</td>\n",
       "      <td>0</td>\n",
       "      <td>13</td>\n",
       "      <td>New</td>\n",
       "      <td>43645</td>\n",
       "      <td>2021</td>\n",
       "      <td>10.683844</td>\n",
       "    </tr>\n",
       "    <tr>\n",
       "      <th>39908</th>\n",
       "      <td>Battery Electric Vehicle (BEV)</td>\n",
       "      <td>2021</td>\n",
       "      <td>CHEVROLET</td>\n",
       "      <td>Bolt EV</td>\n",
       "      <td>Passenger</td>\n",
       "      <td>0</td>\n",
       "      <td>13</td>\n",
       "      <td>New</td>\n",
       "      <td>41630</td>\n",
       "      <td>2021</td>\n",
       "      <td>10.636576</td>\n",
       "    </tr>\n",
       "    <tr>\n",
       "      <th>81211</th>\n",
       "      <td>Battery Electric Vehicle (BEV)</td>\n",
       "      <td>2021</td>\n",
       "      <td>VOLKSWAGEN</td>\n",
       "      <td>ID.4</td>\n",
       "      <td>Passenger</td>\n",
       "      <td>0</td>\n",
       "      <td>13</td>\n",
       "      <td>New</td>\n",
       "      <td>41949</td>\n",
       "      <td>2021</td>\n",
       "      <td>10.644210</td>\n",
       "    </tr>\n",
       "    <tr>\n",
       "      <th>81217</th>\n",
       "      <td>Battery Electric Vehicle (BEV)</td>\n",
       "      <td>2021</td>\n",
       "      <td>VOLKSWAGEN</td>\n",
       "      <td>ID.4</td>\n",
       "      <td>Passenger</td>\n",
       "      <td>0</td>\n",
       "      <td>13</td>\n",
       "      <td>New</td>\n",
       "      <td>49370</td>\n",
       "      <td>2022</td>\n",
       "      <td>10.807098</td>\n",
       "    </tr>\n",
       "    <tr>\n",
       "      <th>62217</th>\n",
       "      <td>Battery Electric Vehicle (BEV)</td>\n",
       "      <td>2021</td>\n",
       "      <td>NISSAN</td>\n",
       "      <td>Leaf</td>\n",
       "      <td>Passenger</td>\n",
       "      <td>0</td>\n",
       "      <td>13</td>\n",
       "      <td>New</td>\n",
       "      <td>33055</td>\n",
       "      <td>2021</td>\n",
       "      <td>10.405928</td>\n",
       "    </tr>\n",
       "    <tr>\n",
       "      <th>...</th>\n",
       "      <td>...</td>\n",
       "      <td>...</td>\n",
       "      <td>...</td>\n",
       "      <td>...</td>\n",
       "      <td>...</td>\n",
       "      <td>...</td>\n",
       "      <td>...</td>\n",
       "      <td>...</td>\n",
       "      <td>...</td>\n",
       "      <td>...</td>\n",
       "      <td>...</td>\n",
       "    </tr>\n",
       "    <tr>\n",
       "      <th>67136</th>\n",
       "      <td>Battery Electric Vehicle (BEV)</td>\n",
       "      <td>2021</td>\n",
       "      <td>VOLKSWAGEN</td>\n",
       "      <td>ID.4</td>\n",
       "      <td>Passenger</td>\n",
       "      <td>0</td>\n",
       "      <td>12</td>\n",
       "      <td>New</td>\n",
       "      <td>47190</td>\n",
       "      <td>2021</td>\n",
       "      <td>10.761937</td>\n",
       "    </tr>\n",
       "    <tr>\n",
       "      <th>16179</th>\n",
       "      <td>Battery Electric Vehicle (BEV)</td>\n",
       "      <td>2021</td>\n",
       "      <td>VOLKSWAGEN</td>\n",
       "      <td>ID.4</td>\n",
       "      <td>Passenger</td>\n",
       "      <td>0</td>\n",
       "      <td>12</td>\n",
       "      <td>New</td>\n",
       "      <td>51250</td>\n",
       "      <td>2022</td>\n",
       "      <td>10.844471</td>\n",
       "    </tr>\n",
       "    <tr>\n",
       "      <th>58737</th>\n",
       "      <td>Battery Electric Vehicle (BEV)</td>\n",
       "      <td>2021</td>\n",
       "      <td>MINI</td>\n",
       "      <td>Hardtop</td>\n",
       "      <td>Passenger</td>\n",
       "      <td>110</td>\n",
       "      <td>12</td>\n",
       "      <td>New</td>\n",
       "      <td>38440</td>\n",
       "      <td>2021</td>\n",
       "      <td>10.556854</td>\n",
       "    </tr>\n",
       "    <tr>\n",
       "      <th>96071</th>\n",
       "      <td>Battery Electric Vehicle (BEV)</td>\n",
       "      <td>2021</td>\n",
       "      <td>CHEVROLET</td>\n",
       "      <td>Bolt EV</td>\n",
       "      <td>Passenger</td>\n",
       "      <td>0</td>\n",
       "      <td>12</td>\n",
       "      <td>New</td>\n",
       "      <td>36500</td>\n",
       "      <td>2021</td>\n",
       "      <td>10.505068</td>\n",
       "    </tr>\n",
       "    <tr>\n",
       "      <th>67100</th>\n",
       "      <td>Battery Electric Vehicle (BEV)</td>\n",
       "      <td>2021</td>\n",
       "      <td>VOLKSWAGEN</td>\n",
       "      <td>ID.4</td>\n",
       "      <td>Passenger</td>\n",
       "      <td>0</td>\n",
       "      <td>12</td>\n",
       "      <td>New</td>\n",
       "      <td>45000</td>\n",
       "      <td>2021</td>\n",
       "      <td>10.714418</td>\n",
       "    </tr>\n",
       "  </tbody>\n",
       "</table>\n",
       "<p>300 rows × 11 columns</p>\n",
       "</div>"
      ],
      "text/plain": [
       "       Clean Alternative Fuel Vehicle Type  Model Year        Make    Model  \\\n",
       "Car ID                                                                        \n",
       "2679        Battery Electric Vehicle (BEV)        2021         BMW       i3   \n",
       "39908       Battery Electric Vehicle (BEV)        2021   CHEVROLET  Bolt EV   \n",
       "81211       Battery Electric Vehicle (BEV)        2021  VOLKSWAGEN     ID.4   \n",
       "81217       Battery Electric Vehicle (BEV)        2021  VOLKSWAGEN     ID.4   \n",
       "62217       Battery Electric Vehicle (BEV)        2021      NISSAN     Leaf   \n",
       "...                                    ...         ...         ...      ...   \n",
       "67136       Battery Electric Vehicle (BEV)        2021  VOLKSWAGEN     ID.4   \n",
       "16179       Battery Electric Vehicle (BEV)        2021  VOLKSWAGEN     ID.4   \n",
       "58737       Battery Electric Vehicle (BEV)        2021        MINI  Hardtop   \n",
       "96071       Battery Electric Vehicle (BEV)        2021   CHEVROLET  Bolt EV   \n",
       "67100       Battery Electric Vehicle (BEV)        2021  VOLKSWAGEN     ID.4   \n",
       "\n",
       "       Vehicle Primary Use  Electric Range  Odometer Reading  \\\n",
       "Car ID                                                         \n",
       "2679             Passenger               0                13   \n",
       "39908            Passenger               0                13   \n",
       "81211            Passenger               0                13   \n",
       "81217            Passenger               0                13   \n",
       "62217            Passenger               0                13   \n",
       "...                    ...             ...               ...   \n",
       "67136            Passenger               0                12   \n",
       "16179            Passenger               0                12   \n",
       "58737            Passenger             110                12   \n",
       "96071            Passenger               0                12   \n",
       "67100            Passenger               0                12   \n",
       "\n",
       "       New or Used Vehicle  Sale Price  Transaction Year  log(Sale Price)  \n",
       "Car ID                                                                     \n",
       "2679                   New       43645              2021        10.683844  \n",
       "39908                  New       41630              2021        10.636576  \n",
       "81211                  New       41949              2021        10.644210  \n",
       "81217                  New       49370              2022        10.807098  \n",
       "62217                  New       33055              2021        10.405928  \n",
       "...                    ...         ...               ...              ...  \n",
       "67136                  New       47190              2021        10.761937  \n",
       "16179                  New       51250              2022        10.844471  \n",
       "58737                  New       38440              2021        10.556854  \n",
       "96071                  New       36500              2021        10.505068  \n",
       "67100                  New       45000              2021        10.714418  \n",
       "\n",
       "[300 rows x 11 columns]"
      ]
     },
     "execution_count": 24,
     "metadata": {},
     "output_type": "execute_result"
    }
   ],
   "source": [
    "cars_train.loc[i_nearest]"
   ]
  },
  {
   "cell_type": "markdown",
   "metadata": {},
   "source": [
    "To make a prediction for the price of the 2021 car with 12 miles, we average the sale prices of these 5-nearest neighbors. <br>\n",
    "The example we will be talking about is: <br>\n",
    "Car ID: 109428, E-type: Battery Electric Vehicle, Year: 2021, Make: VOLKSWAGEN, Model: ID.4, Type: Passenger, Mileage: 13, New car, Transaction Year: 2022, Price: \\\\$45690"
   ]
  },
  {
   "cell_type": "code",
   "execution_count": 25,
   "metadata": {},
   "outputs": [
    {
     "data": {
      "text/plain": [
       "49234.26628423616"
      ]
     },
     "execution_count": 25,
     "metadata": {},
     "output_type": "execute_result"
    }
   ],
   "source": [
    "y_train.loc[i_nearest].mean()\n",
    "np.exp(y_train.loc[i_nearest].mean())"
   ]
  },
  {
   "cell_type": "markdown",
   "metadata": {},
   "source": [
    "So the model predicts that the price of the vehicle is about $49,000.\n",
    "\n",
    "Of course, the model above only had two features so it was easy to visualize the \"nearest neighbors\" on the scatterplot. The power of $k$-nearest neighbors is that it still works when there are more features and the data is not possible to visualize. Thus we will be using sklearn library in order to use multiple features. Lets create a model (or pipeline) for that includes all of the features we want to use. Note that for the Make and Model, we will need to use One Hot Encoding since they are categorical values. We will use column transform in order to acheive the scaling part and then create the pipeline."
   ]
  },
  {
   "cell_type": "code",
   "execution_count": 16,
   "metadata": {
    "colab": {},
    "colab_type": "code",
    "id": "-Z8RozqFgdqQ"
   },
   "outputs": [
    {
     "data": {
      "text/plain": [
       "Pipeline(steps=[('columntransformer',\n",
       "                 ColumnTransformer(transformers=[('minmaxscaler',\n",
       "                                                  MinMaxScaler(),\n",
       "                                                  ['Model Year',\n",
       "                                                   'Odometer Reading']),\n",
       "                                                 ('onehotencoder',\n",
       "                                                  OneHotEncoder(handle_unknown='ignore'),\n",
       "                                                  ['Make', 'Model'])])),\n",
       "                ('kneighborsregressor', KNeighborsRegressor(n_neighbors=100))])"
      ]
     },
     "execution_count": 16,
     "metadata": {},
     "output_type": "execute_result"
    }
   ],
   "source": [
    "from sklearn.compose import make_column_transformer\n",
    "from sklearn.preprocessing import MinMaxScaler, OneHotEncoder, StandardScaler\n",
    "from sklearn.pipeline import make_pipeline\n",
    "from sklearn.neighbors import KNeighborsRegressor\n",
    "\n",
    "ct = make_column_transformer(\n",
    "    (MinMaxScaler(), [\"Model Year\", \"Odometer Reading\"]),\n",
    "    (OneHotEncoder(handle_unknown='ignore'), [\"Make\", \"Model\"]),\n",
    "    remainder=\"drop\"  # all other columns in X will be dropped.\n",
    ")\n",
    "\n",
    "pipeline = make_pipeline(\n",
    "    ct,\n",
    "    KNeighborsRegressor(n_neighbors=100)\n",
    ")\n",
    "\n",
    "pipeline.fit(X=cars_temp[[\"Model Year\", \"Odometer Reading\", \"Make\", \"Model\"]], \n",
    "             y=cars_temp[\"Sale Price\"])"
   ]
  },
  {
   "cell_type": "markdown",
   "metadata": {
    "colab": {},
    "colab_type": "code",
    "id": "-Z8RozqFgdqQ"
   },
   "source": [
    "For now, we will use square root of n (number of all rows) for the k value and next we will optimize it. But before that, let's take a look at the same vehicle we were looking at earlier to see if there are any improvement in our predictions since we are using more features."
   ]
  },
  {
   "cell_type": "code",
   "execution_count": 17,
   "metadata": {
    "colab": {},
    "colab_type": "code",
    "id": "-Z8RozqFgdqQ"
   },
   "outputs": [
    {
     "data": {
      "text/plain": [
       "array([47885.54])"
      ]
     },
     "execution_count": 17,
     "metadata": {},
     "output_type": "execute_result"
    }
   ],
   "source": [
    "#Debugging note: If future errors arise, get rid of \"[],dtype=pd.StringDtype()\"\n",
    "x_test = pd.Series([],dtype=pd.StringDtype())\n",
    "x_test[\"Model Year\"] = 2021\n",
    "x_test[\"Odometer Reading\"] = 13\n",
    "x_test[\"Make\"] = \"VOLKSWAGEN\"\n",
    "x_test[\"Model\"] = \"ID.4\"\n",
    "\n",
    "pipeline.predict(X=pd.DataFrame([x_test]))"
   ]
  },
  {
   "cell_type": "markdown",
   "metadata": {
    "colab": {},
    "colab_type": "code",
    "id": "-Z8RozqFgdqQ"
   },
   "source": [
    "As you can see the predicted price is closer to the actual price by a difference of more than \\\\$1000 which is a big improvement. Once we tune k to the best value, we can further improve the results. Now lets try and tune the $k$ value. We will be trying all $k$ values from 1 to square root of the instances we have.\n",
    "One way to get the best k is by minimizing the error. We could use a measure of error known as _mean squared error_ (or _MSE_, for short):\n",
    "\n",
    "$$ \n",
    "\\begin{align*}\n",
    "\\textrm{MSE} &= \\textrm{mean of } (y - \\hat y)^2.\n",
    "\\end{align*}\n",
    "$$ \n",
    "\n",
    "MSE is difficult to interpret because its units are the square of the units of the label. To make MSE more interpretable, it is common to take the _square root_ of the MSE to obtain the _root mean squared error_ (or _RMSE_, for short):\n",
    "\n",
    "$$ \n",
    "\\begin{align*}\n",
    "\\textrm{RMSE} &= \\sqrt{\\textrm{MSE}}.\n",
    "\\end{align*}\n",
    "$$ \n",
    "\n",
    "The RMSE measures how off a \"typical\" prediction is."
   ]
  },
  {
   "cell_type": "code",
   "execution_count": 190,
   "metadata": {},
   "outputs": [
    {
     "name": "stdout",
     "output_type": "stream",
     "text": [
      "Number of rows in dataset: 10927\n",
      "Best k value: 14\n"
     ]
    }
   ],
   "source": [
    "from sklearn.model_selection import cross_val_score\n",
    "\n",
    "# Define a list of k values to try\n",
    "k_values = list(range(1, 30))\n",
    "\n",
    "ct = make_column_transformer(\n",
    "    (MinMaxScaler(), [\"Model Year\", \"Odometer Reading\"]),\n",
    "    (OneHotEncoder(handle_unknown='ignore'), [\"Make\", \"Model\"]),\n",
    "    remainder=\"drop\"  # all other columns in X will be dropped.\n",
    ")\n",
    "print(\"Number of rows in dataset:\", cars_temp.shape[0])\n",
    "# Loop over the k values and compute cross-validation scores\n",
    "cv_scores = []\n",
    "for k in k_values:\n",
    "    pipeline = make_pipeline(\n",
    "        ct,\n",
    "        KNeighborsRegressor(n_neighbors=k)\n",
    "    )\n",
    "    scores = cross_val_score(pipeline, X=cars_temp.drop('Sale Price', axis=1), y=cars_temp['Sale Price'], scoring=\"neg_mean_squared_error\", cv = 10)\n",
    "    cv_scores.append(np.mean(scores))\n",
    "\n",
    "# Find the k value with the highest cross-validation score\n",
    "highest_score = k_values[np.argmax(cv_scores)]\n",
    "print(\"Best k value:\", highest_score)"
   ]
  },
  {
   "cell_type": "markdown",
   "metadata": {},
   "source": [
    "In the above section, we are utilizing Negative Mean Squared Error to find the $k$ value we should use that yields the least error. We first define a range of k values in which we want to test. We use a loop for our values and for each iteration, we will keep track of the cross-validation scores (AKA negative MSE errors) by appending them to an array. After we are done, we take the least error and print out the best k accordingly. \n",
    "\n",
    "The significance in which we wish to use cross-validation is so that we can assess whether our $k$ is a good reflection of independent sets of data. "
   ]
  },
  {
   "cell_type": "code",
   "execution_count": 191,
   "metadata": {},
   "outputs": [
    {
     "data": {
      "text/plain": [
       "array([11624.81103616, 10162.59747382,  9896.51858572,  9769.16828062,\n",
       "        9650.23504234,  9566.38745528,  9534.34838921,  9543.24805694,\n",
       "        9477.25564795,  9448.05324546,  9439.26630034,  9428.71054247,\n",
       "        9420.84961691,  9419.18432306,  9425.28550552,  9457.39888711,\n",
       "        9467.72305518,  9506.72859085,  9549.40374884,  9592.38383498,\n",
       "        9639.26781841,  9688.47711795,  9740.00944366,  9774.42443272,\n",
       "        9795.32200499,  9817.68404223,  9819.41943105,  9819.71458794,\n",
       "        9826.67908483])"
      ]
     },
     "execution_count": 191,
     "metadata": {},
     "output_type": "execute_result"
    }
   ],
   "source": [
    "highest_score = np.argmax(cv_scores)\n",
    "score = np.sqrt(-cv_scores[highest_score])\n",
    "#print(\"score:\", score)\n",
    "\n",
    "rmse = np.array(cv_scores)\n",
    "rmse = rmse * -1\n",
    "rmse = np. sqrt(rmse)\n",
    "rmse"
   ]
  },
  {
   "cell_type": "markdown",
   "metadata": {},
   "source": [
    "Here, we are taking the negative mean squared errors, multiplying them by -1 so that they are all positive and then taking the square root of them in order to find the root mean square error (RMSE). As you can see, the best $k$ value for this dataset is determined based on the least amount of error. We can plot different values of $k$ and see how error differentiates across them."
   ]
  },
  {
   "cell_type": "code",
   "execution_count": 192,
   "metadata": {},
   "outputs": [
    {
     "data": {
      "image/png": "[encoded data removed]",
      "text/plain": [
       "<Figure size 640x480 with 1 Axes>"
      ]
     },
     "metadata": {},
     "output_type": "display_data"
    }
   ],
   "source": [
    "import matplotlib.pyplot as plt\n",
    "\n",
    "# Plot the cross-validation scores for each k value\n",
    "plt.plot(k_values, rmse)\n",
    "plt.xlabel('Value of k')\n",
    "plt.ylabel('RMSE')\n",
    "plt.title('Finding the best K')\n",
    "plt.show()\n"
   ]
  },
  {
   "cell_type": "markdown",
   "metadata": {},
   "source": [
    "As you can see, the best value of $k$ is at $k$=14. Now lets take a look back at the same Volkswagen vehicle we have been looking at to see if optimizing k has had any impact on the improvement of the model."
   ]
  },
  {
   "cell_type": "code",
   "execution_count": 185,
   "metadata": {},
   "outputs": [
    {
     "data": {
      "text/plain": [
       "array([47641.42857143])"
      ]
     },
     "execution_count": 185,
     "metadata": {},
     "output_type": "execute_result"
    }
   ],
   "source": [
    "from sklearn.compose import make_column_transformer\n",
    "from sklearn.preprocessing import MinMaxScaler, OneHotEncoder, StandardScaler\n",
    "from sklearn.pipeline import make_pipeline\n",
    "from sklearn.neighbors import KNeighborsRegressor\n",
    "\n",
    "ct = make_column_transformer(\n",
    "    (MinMaxScaler(), [\"Model Year\", \"Odometer Reading\"]),\n",
    "    (OneHotEncoder(handle_unknown='ignore'), [\"Make\", \"Model\"]),\n",
    "    remainder=\"drop\"  # all other columns in X will be dropped.\n",
    ")\n",
    "\n",
    "pipeline = make_pipeline(\n",
    "    ct,\n",
    "    KNeighborsRegressor(n_neighbors=14)\n",
    ")\n",
    "\n",
    "pipeline.fit(X=cars_temp[[\"Model Year\", \"Odometer Reading\", \"Make\", \"Model\"]], \n",
    "             y=cars_temp[\"Sale Price\"])\n",
    "\n",
    "x_test = pd.Series([],dtype=pd.StringDtype())\n",
    "x_test[\"Model Year\"] = 2021\n",
    "x_test[\"Odometer Reading\"] = 13\n",
    "x_test[\"Make\"] = \"VOLKSWAGEN\"\n",
    "x_test[\"Model\"] = \"ID.4\"\n",
    "\n",
    "pipeline.predict(X=pd.DataFrame([x_test]))"
   ]
  },
  {
   "cell_type": "markdown",
   "metadata": {},
   "source": [
    "As you can see, the predicted price for this example is now very close to the actual price! (The actual price being: $45690)"
   ]
  },
  {
   "cell_type": "code",
   "execution_count": 194,
   "metadata": {},
   "outputs": [
    {
     "name": "stdout",
     "output_type": "stream",
     "text": [
      "NMSE Scores: [-8.54141021e+07 -1.18504578e+08 -9.55328867e+07 -8.47925714e+07\n",
      " -9.78648002e+07 -9.67927731e+07 -1.01398266e+08 -8.23794756e+07\n",
      " -1.13465723e+08 -8.94910418e+07]\n",
      "RMSE Scores: [11624.81103616 10162.59747382  9896.51858572  9769.16828062\n",
      "  9650.23504234  9566.38745528  9534.34838921  9543.24805694\n",
      "  9477.25564795  9448.05324546  9439.26630034  9428.71054247\n",
      "  9420.84961691  9419.18432306  9425.28550552  9457.39888711\n",
      "  9467.72305518  9506.72859085  9549.40374884  9592.38383498\n",
      "  9639.26781841  9688.47711795  9740.00944366  9774.42443272\n",
      "  9795.32200499  9817.68404223  9819.41943105  9819.71458794\n",
      "  9826.67908483]\n",
      "Mean RMSE: 9700.019158018347\n",
      "Standard deviation of RMSE scores: 406.1815467315494\n"
     ]
    }
   ],
   "source": [
    "from sklearn.model_selection import cross_val_score\n",
    "\n",
    "cv_scores = cross_val_score(pipeline, X=cars_temp[[\"Model Year\", \"Odometer Reading\", \"Make\", \"Model\",\"New or Used Vehicle\", \"Transaction Year\"]], y=cars_temp[\"Sale Price\"], scoring=\"neg_mean_squared_error\", cv=10)\n",
    "\n",
    "# Print the mean score and standard deviation\n",
    "print(\"NMSE Scores:\", cv_scores)\n",
    "print(\"RMSE Scores:\", rmse)\n",
    "print(\"Mean RMSE:\", np.mean(rmse))\n",
    "print(\"Standard deviation of RMSE scores:\", np.std(rmse))"
   ]
  },
  {
   "cell_type": "markdown",
   "metadata": {},
   "source": [
    "Results and conclusion:\n",
    "Add description here as to why the RMSE is off by so much. Ideas: condition of the car, private seller or dealership, trim of the car"
   ]
  },
  {
   "cell_type": "code",
   "execution_count": null,
   "metadata": {},
   "outputs": [],
   "source": []
  }
 ],
 "metadata": {
  "colab": {
   "name": "5.2 K-Nearest Neighbors for Regression.ipynb",
   "provenance": []
  },
  "kernelspec": {
   "display_name": "Python 3 (ipykernel)",
   "language": "python",
   "name": "python3"
  },
  "language_info": {
   "codemirror_mode": {
    "name": "ipython",
    "version": 3
   },
   "file_extension": ".py",
   "mimetype": "text/x-python",
   "name": "python",
   "nbconvert_exporter": "python",
   "pygments_lexer": "ipython3",
   "version": "3.9.13"
  }
 },
 "nbformat": 4,
 "nbformat_minor": 4
}
