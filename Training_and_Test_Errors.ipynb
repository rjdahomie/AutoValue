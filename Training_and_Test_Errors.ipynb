{
 "cells": [
  {
   "cell_type": "markdown",
   "metadata": {
    "colab_type": "text",
    "id": "aGU3fqF9wDjg"
   },
   "source": [
    "# Training and Test Errors\n",
    "\n",
    "So far, we have fit regression models to data and obtained predictions from them, but we have not evaluated whether these predictions were any good. In this lesson, we will discuss different performance metrics that can be used to evaluate predictions from a machine learning model. These performance metrics can be calculated on training data or on test data."
   ]
  },
  {
   "cell_type": "code",
   "execution_count": 4,
   "metadata": {
    "colab": {},
    "colab_type": "code",
    "id": "Tsk00vP9wDjk"
   },
   "outputs": [
    {
     "data": {
      "text/html": [
       "<div>\n",
       "<style scoped>\n",
       "    .dataframe tbody tr th:only-of-type {\n",
       "        vertical-align: middle;\n",
       "    }\n",
       "\n",
       "    .dataframe tbody tr th {\n",
       "        vertical-align: top;\n",
       "    }\n",
       "\n",
       "    .dataframe thead th {\n",
       "        text-align: right;\n",
       "    }\n",
       "</style>\n",
       "<table border=\"1\" class=\"dataframe\">\n",
       "  <thead>\n",
       "    <tr style=\"text-align: right;\">\n",
       "      <th></th>\n",
       "      <th>Clean Alternative Fuel Vehicle Type</th>\n",
       "      <th>Model Year</th>\n",
       "      <th>Make</th>\n",
       "      <th>Model</th>\n",
       "      <th>Vehicle Primary Use</th>\n",
       "      <th>Electric Range</th>\n",
       "      <th>Odometer Reading</th>\n",
       "      <th>New or Used Vehicle</th>\n",
       "      <th>Sale Price</th>\n",
       "      <th>Transaction Year</th>\n",
       "    </tr>\n",
       "    <tr>\n",
       "      <th>Car ID</th>\n",
       "      <th></th>\n",
       "      <th></th>\n",
       "      <th></th>\n",
       "      <th></th>\n",
       "      <th></th>\n",
       "      <th></th>\n",
       "      <th></th>\n",
       "      <th></th>\n",
       "      <th></th>\n",
       "      <th></th>\n",
       "    </tr>\n",
       "  </thead>\n",
       "  <tbody>\n",
       "    <tr>\n",
       "      <th>1</th>\n",
       "      <td>Battery Electric Vehicle (BEV)</td>\n",
       "      <td>2014</td>\n",
       "      <td>MERCEDES-BENZ</td>\n",
       "      <td>B-Class</td>\n",
       "      <td>Passenger</td>\n",
       "      <td>87</td>\n",
       "      <td>37031</td>\n",
       "      <td>Used</td>\n",
       "      <td>19443</td>\n",
       "      <td>2018</td>\n",
       "    </tr>\n",
       "    <tr>\n",
       "      <th>2</th>\n",
       "      <td>Battery Electric Vehicle (BEV)</td>\n",
       "      <td>2018</td>\n",
       "      <td>TESLA</td>\n",
       "      <td>Model 3</td>\n",
       "      <td>Passenger</td>\n",
       "      <td>215</td>\n",
       "      <td>50</td>\n",
       "      <td>New</td>\n",
       "      <td>65700</td>\n",
       "      <td>2018</td>\n",
       "    </tr>\n",
       "    <tr>\n",
       "      <th>3</th>\n",
       "      <td>Battery Electric Vehicle (BEV)</td>\n",
       "      <td>2023</td>\n",
       "      <td>TESLA</td>\n",
       "      <td>Model Y</td>\n",
       "      <td>Passenger</td>\n",
       "      <td>0</td>\n",
       "      <td>15</td>\n",
       "      <td>New</td>\n",
       "      <td>84440</td>\n",
       "      <td>2022</td>\n",
       "    </tr>\n",
       "    <tr>\n",
       "      <th>4</th>\n",
       "      <td>Battery Electric Vehicle (BEV)</td>\n",
       "      <td>2014</td>\n",
       "      <td>TESLA</td>\n",
       "      <td>Model S</td>\n",
       "      <td>Passenger</td>\n",
       "      <td>208</td>\n",
       "      <td>30840</td>\n",
       "      <td>Used</td>\n",
       "      <td>66864</td>\n",
       "      <td>2017</td>\n",
       "    </tr>\n",
       "    <tr>\n",
       "      <th>5</th>\n",
       "      <td>Battery Electric Vehicle (BEV)</td>\n",
       "      <td>2022</td>\n",
       "      <td>TESLA</td>\n",
       "      <td>Model Y</td>\n",
       "      <td>Passenger</td>\n",
       "      <td>0</td>\n",
       "      <td>15</td>\n",
       "      <td>New</td>\n",
       "      <td>61440</td>\n",
       "      <td>2022</td>\n",
       "    </tr>\n",
       "    <tr>\n",
       "      <th>...</th>\n",
       "      <td>...</td>\n",
       "      <td>...</td>\n",
       "      <td>...</td>\n",
       "      <td>...</td>\n",
       "      <td>...</td>\n",
       "      <td>...</td>\n",
       "      <td>...</td>\n",
       "      <td>...</td>\n",
       "      <td>...</td>\n",
       "      <td>...</td>\n",
       "    </tr>\n",
       "    <tr>\n",
       "      <th>109424</th>\n",
       "      <td>Battery Electric Vehicle (BEV)</td>\n",
       "      <td>2022</td>\n",
       "      <td>RIVIAN</td>\n",
       "      <td>R1T</td>\n",
       "      <td>Truck</td>\n",
       "      <td>0</td>\n",
       "      <td>100</td>\n",
       "      <td>New</td>\n",
       "      <td>82295</td>\n",
       "      <td>2022</td>\n",
       "    </tr>\n",
       "    <tr>\n",
       "      <th>109425</th>\n",
       "      <td>Battery Electric Vehicle (BEV)</td>\n",
       "      <td>2022</td>\n",
       "      <td>TESLA</td>\n",
       "      <td>Model 3</td>\n",
       "      <td>Passenger</td>\n",
       "      <td>0</td>\n",
       "      <td>187</td>\n",
       "      <td>New</td>\n",
       "      <td>75290</td>\n",
       "      <td>2022</td>\n",
       "    </tr>\n",
       "    <tr>\n",
       "      <th>109426</th>\n",
       "      <td>Battery Electric Vehicle (BEV)</td>\n",
       "      <td>2011</td>\n",
       "      <td>NISSAN</td>\n",
       "      <td>Leaf</td>\n",
       "      <td>Passenger</td>\n",
       "      <td>73</td>\n",
       "      <td>64000</td>\n",
       "      <td>Used</td>\n",
       "      <td>1540</td>\n",
       "      <td>2022</td>\n",
       "    </tr>\n",
       "    <tr>\n",
       "      <th>109427</th>\n",
       "      <td>Battery Electric Vehicle (BEV)</td>\n",
       "      <td>2020</td>\n",
       "      <td>TESLA</td>\n",
       "      <td>Model Y</td>\n",
       "      <td>Passenger</td>\n",
       "      <td>291</td>\n",
       "      <td>24482</td>\n",
       "      <td>Used</td>\n",
       "      <td>68800</td>\n",
       "      <td>2022</td>\n",
       "    </tr>\n",
       "    <tr>\n",
       "      <th>109428</th>\n",
       "      <td>Battery Electric Vehicle (BEV)</td>\n",
       "      <td>2021</td>\n",
       "      <td>VOLKSWAGEN</td>\n",
       "      <td>ID.4</td>\n",
       "      <td>Passenger</td>\n",
       "      <td>0</td>\n",
       "      <td>13</td>\n",
       "      <td>New</td>\n",
       "      <td>45690</td>\n",
       "      <td>2022</td>\n",
       "    </tr>\n",
       "  </tbody>\n",
       "</table>\n",
       "<p>109428 rows × 10 columns</p>\n",
       "</div>"
      ],
      "text/plain": [
       "       Clean Alternative Fuel Vehicle Type  Model Year           Make  \\\n",
       "Car ID                                                                  \n",
       "1           Battery Electric Vehicle (BEV)        2014  MERCEDES-BENZ   \n",
       "2           Battery Electric Vehicle (BEV)        2018          TESLA   \n",
       "3           Battery Electric Vehicle (BEV)        2023          TESLA   \n",
       "4           Battery Electric Vehicle (BEV)        2014          TESLA   \n",
       "5           Battery Electric Vehicle (BEV)        2022          TESLA   \n",
       "...                                    ...         ...            ...   \n",
       "109424      Battery Electric Vehicle (BEV)        2022         RIVIAN   \n",
       "109425      Battery Electric Vehicle (BEV)        2022          TESLA   \n",
       "109426      Battery Electric Vehicle (BEV)        2011         NISSAN   \n",
       "109427      Battery Electric Vehicle (BEV)        2020          TESLA   \n",
       "109428      Battery Electric Vehicle (BEV)        2021     VOLKSWAGEN   \n",
       "\n",
       "          Model Vehicle Primary Use  Electric Range  Odometer Reading  \\\n",
       "Car ID                                                                  \n",
       "1       B-Class           Passenger              87             37031   \n",
       "2       Model 3           Passenger             215                50   \n",
       "3       Model Y           Passenger               0                15   \n",
       "4       Model S           Passenger             208             30840   \n",
       "5       Model Y           Passenger               0                15   \n",
       "...         ...                 ...             ...               ...   \n",
       "109424      R1T               Truck               0               100   \n",
       "109425  Model 3           Passenger               0               187   \n",
       "109426     Leaf           Passenger              73             64000   \n",
       "109427  Model Y           Passenger             291             24482   \n",
       "109428     ID.4           Passenger               0                13   \n",
       "\n",
       "       New or Used Vehicle  Sale Price  Transaction Year  \n",
       "Car ID                                                    \n",
       "1                     Used       19443              2018  \n",
       "2                      New       65700              2018  \n",
       "3                      New       84440              2022  \n",
       "4                     Used       66864              2017  \n",
       "5                      New       61440              2022  \n",
       "...                    ...         ...               ...  \n",
       "109424                 New       82295              2022  \n",
       "109425                 New       75290              2022  \n",
       "109426                Used        1540              2022  \n",
       "109427                Used       68800              2022  \n",
       "109428                 New       45690              2022  \n",
       "\n",
       "[109428 rows x 10 columns]"
      ]
     },
     "execution_count": 4,
     "metadata": {},
     "output_type": "execute_result"
    }
   ],
   "source": [
    "import pandas as pd\n",
    "import numpy as np\n",
    "\n",
    "#Read the csv file\n",
    "cars_df = pd.read_csv(\"car.csv\")\n",
    "\n",
    "#Data cleaning: Remove unwanted columns\n",
    "cars_df = cars_df.iloc[:,[0,1,3,4,5,6,7,8,10,11,16]]\n",
    "\n",
    "#Data cleaning: Remove all rows with no sale price\n",
    "#Why not predict the price and not drop the row? \n",
    "#Because rows with no sale price are not guarenteed to have odometer reading\n",
    "#Additionaly, the dataset is big enough to be able to afford dropping rows\n",
    "cars_df = cars_df[cars_df[\"Sale Price\"] != 0]\n",
    "\n",
    "#Data cleaning: Remove all cars that are not Battery Electric Vehicle (Example: Hybrid cars)\n",
    "cars_df = cars_df[cars_df[\"Clean Alternative Fuel Vehicle Type\"] == \"Battery Electric Vehicle (BEV)\"]\n",
    "\n",
    "#Data cleaning: Getting rid of outliers\n",
    "cars_df = cars_df[cars_df[\"Odometer Reading\"] >= 0]\n",
    "cars_df = cars_df[cars_df[\"Odometer Reading\"] <= 250000]\n",
    "cars_df = cars_df[cars_df[\"Model Year\"] >= 2000]\n",
    "cars_df = cars_df[cars_df[\"Model Year\"] <= 2023]\n",
    "cars_df = cars_df[cars_df[\"Sale Price\"] <= 300000]\n",
    "cars_df = cars_df[cars_df[\"Sale Price\"] > 100]\n",
    "\n",
    "#Since we know each car has a unique vin number, we\n",
    "#can simplify the vin numbers and use them as index\n",
    "cars_df[\"VIN (1-10)\"] = cars_df.reset_index().index + 1\n",
    "cars_df = cars_df.rename(columns={\"VIN (1-10)\": \"Car ID\"})\n",
    "\n",
    "# Split the data into training and test sets.\n",
    "cars_df = cars_df.set_index(\"Car ID\")\n",
    "cars_train = cars_df.loc[:100000].copy()\n",
    "cars_test = cars_df.loc[100000:].copy()\n",
    "\n",
    "# Smaller sample data set which has chosen random rows (every 10th row)\n",
    "cars_temp = cars_df.iloc[::100, :]\n",
    "cars_temp = cars_temp.iloc[:,[1,2,3,6,7,8,9]]\n",
    "\n",
    "# Log transform the target(Sale Price) for visualization purposes only\n",
    "cars_train[\"log(Sale Price)\"] = np.log(cars_train[\"Sale Price\"])\n",
    "\n",
    "cars_df\n",
    "#cars_train\n",
    "#cars_test\n",
    "#cars_temp"
   ]
  },
  {
   "cell_type": "markdown",
   "metadata": {
    "colab_type": "text",
    "id": "wWlXSLYvwDjv"
   },
   "source": [
    "## Performance Metrics for Regression Models\n",
    "\n",
    "To evaluate the performance of a regression model, we check the predicted labels from the model against the true labels. Since the labels are quantitative, all of the performance metrics are based on the difference between each predicted label $\\hat y$ and the true label $y$. \n",
    "\n",
    "One way to make sense of these differences is to square each difference and average the squared differences. This measure of error is known as _mean squared error_ (or _MSE_, for short):\n",
    "\n",
    "$$ \n",
    "\\begin{align*}\n",
    "\\textrm{MSE} &= \\textrm{mean of } (y - \\hat y)^2.\n",
    "\\end{align*}\n",
    "$$ \n",
    "\n",
    "MSE is difficult to interpret because its units are the square of the units of the label. To make MSE more interpretable, it is common to take the _square root_ of the MSE to obtain the _root mean squared error_ (or _RMSE_, for short):\n",
    "\n",
    "$$ \n",
    "\\begin{align*}\n",
    "\\textrm{RMSE} &= \\sqrt{\\textrm{MSE}}.\n",
    "\\end{align*}\n",
    "$$ \n",
    "\n",
    "The RMSE measures how off a \"typical\" prediction is. Notice that this reasoning is exactly the same reasoning that we used in the past when we defined the standard deviation as the square root of the variance.\n",
    "\n",
    "Another common measure of error is the _mean absolute error_ (or _MAE_, for short):\n",
    "\n",
    "$$ \n",
    "\\begin{align*}\n",
    "\\textrm{MAE} &= \\textrm{mean of } |y - \\hat y|.\n",
    "\\end{align*}\n",
    "$$ \n",
    "\n",
    "Like the RMSE, the MAE measures how off a \"typical\" prediction is. \n",
    "\n",
    "MSE, RMSE, and MAE are all error metrics; we want them to be as small as possible. There are also performance metrics that we seek to maximize. One example is $R^2$, also known as the _coefficient of determination_:\n",
    "\n",
    "\\begin{align*}\n",
    "R^2 &= 1 - \\frac{\\text{mean of } (y - \\hat y)^2}{\\text{mean of } (y - \\bar y)^2}.\n",
    "\\end{align*}\n",
    "\n",
    "Notice that the denominator, $\\text{mean of } (y - \\bar y)^2$, is just the variance of the label $y$. So the interpretation of $\\frac{\\text{mean of } (y - \\hat y)^2}{\\text{mean of } (y - \\bar y)^2}$ is the fraction of the variance in the label $y$ that is \"left over\" after we fit the regression model. Therefore, $R^2$ can be interpreted as the fraction of variance that is explained by the regression model. It cannot be greater than $1.0$, but it can sometimes be negative if the regression model is worse than useless.\n",
    "\n",
    "These are just some of the performance metrics that are used to evaluate regression models. For more, refer to the [scikit-learn documentation on regression metrics](https://scikit-learn.org/stable/modules/model_evaluation.html#regression-metrics)."
   ]
  },
  {
   "cell_type": "markdown",
   "metadata": {
    "colab_type": "text",
    "id": "GFk92ILDwDjy"
   },
   "source": [
    "## Training Error\n",
    "\n",
    "To calculate the performance metrics above, we need data where the true labels are known. Where do we find such data? One natural source of labeled data is the training data, since we needed the true labels to be able to train a model.\n",
    "\n",
    "For a $k$-nearest neighbors model, the training data is the data from which the $k$-nearest neighbors are selected. So to calculate the training RMSE, we do the following:\n",
    "\n",
    "For each observation in the training data:\n",
    "1. Find its $k$-nearest neighbors in the training data.\n",
    "2. Average the labels of the $k$-nearest neighbors to obtain the predicted label.\n",
    "3. Compare the predicted label to the true label.\n",
    "\n",
    "At this point, we can average the square of these differences to obtain the MSE or average their absolute values to obtain the MAE.\n",
    "\n",
    "Let's calculate the training MSE for the 5-nearest neighbors model that we fit in Chapter 5.2."
   ]
  },
  {
   "cell_type": "code",
   "execution_count": 5,
   "metadata": {
    "colab": {},
    "colab_type": "code",
    "id": "Zwbqq2LBwDj0"
   },
   "outputs": [
    {
     "data": {
      "text/plain": [
       "Pipeline(steps=[('columntransformer',\n",
       "                 ColumnTransformer(transformers=[('minmaxscaler',\n",
       "                                                  MinMaxScaler(),\n",
       "                                                  ['Model Year',\n",
       "                                                   'Odometer Reading']),\n",
       "                                                 ('onehotencoder',\n",
       "                                                  OneHotEncoder(),\n",
       "                                                  ['Make', 'Model'])])),\n",
       "                ('kneighborsregressor', KNeighborsRegressor(n_neighbors=6))])"
      ]
     },
     "execution_count": 5,
     "metadata": {},
     "output_type": "execute_result"
    }
   ],
   "source": [
    "from sklearn.compose import make_column_transformer\n",
    "from sklearn.preprocessing import MinMaxScaler, OneHotEncoder\n",
    "from sklearn.pipeline import make_pipeline\n",
    "from sklearn.neighbors import KNeighborsRegressor\n",
    "\n",
    "X_train = cars_temp[[\"Model Year\", \"Odometer Reading\", \"Make\", \"Model\"]]\n",
    "y_train = cars_temp[\"Sale Price\"]\n",
    "\n",
    "ct = make_column_transformer(\n",
    "    (MinMaxScaler(), [\"Model Year\", \"Odometer Reading\"]),\n",
    "    (OneHotEncoder(), [\"Make\", \"Model\"]),\n",
    "    remainder=\"drop\"  # all other columns in X will be dropped.\n",
    ")\n",
    "\n",
    "pipeline = make_pipeline(\n",
    "    ct,\n",
    "    KNeighborsRegressor(n_neighbors=6)\n",
    ")\n",
    "\n",
    "pipeline.fit(X=cars_temp[[\"Model Year\", \"Odometer Reading\", \"Make\", \"Model\"]], \n",
    "             y=cars_temp[\"Sale Price\"])\n"
   ]
  },
  {
   "cell_type": "markdown",
   "metadata": {
    "colab_type": "text",
    "id": "KOX-bH4qwDj7"
   },
   "source": [
    "To calculate the training error, we need its predictions on the training data."
   ]
  },
  {
   "cell_type": "code",
   "execution_count": 7,
   "metadata": {
    "colab": {},
    "colab_type": "code",
    "id": "5242Hn8ewDj9"
   },
   "outputs": [
    {
     "data": {
      "text/plain": [
       "array([33905.        , 14006.66666667, 39825.        , ...,\n",
       "       60923.33333333, 48513.33333333, 60923.33333333])"
      ]
     },
     "execution_count": 7,
     "metadata": {},
     "output_type": "execute_result"
    }
   ],
   "source": [
    "# Calculate the model predictions on the training data.\n",
    "y_train_ = pipeline.predict(X=cars_temp[[\"Model Year\", \"Odometer Reading\", \"Make\", \"Model\"]])\n",
    "y_train_"
   ]
  },
  {
   "cell_type": "markdown",
   "metadata": {
    "colab_type": "text",
    "id": "tNilhEk9wDkF"
   },
   "source": [
    "Finally, we compare the predictions `y_train_` (note the trailing underscore) to the true labels `y_train`, which are known, since this is the training data."
   ]
  },
  {
   "cell_type": "code",
   "execution_count": 8,
   "metadata": {
    "colab": {},
    "colab_type": "code",
    "id": "8jIxftd9wDkJ"
   },
   "outputs": [
    {
     "data": {
      "text/plain": [
       "88651768.96927935"
      ]
     },
     "execution_count": 8,
     "metadata": {},
     "output_type": "execute_result"
    }
   ],
   "source": [
    "# Calculate the mean-squared error.\n",
    "mse = ((y_train - y_train_) ** 2).mean()\n",
    "mse"
   ]
  },
  {
   "cell_type": "markdown",
   "metadata": {
    "colab_type": "text",
    "id": "FJaGGJvWwDkQ"
   },
   "source": [
    "We could have also used a scikit-learn function to calculate mean-squared error. The scikit-learn functions for the performance metrics discussed in this chapter are shown in the table below. All of these functions take a 1D-array of the true labels as the first parameter and a 1D-array of the predicted labels as the second.\n",
    "\n",
    "| Metric | Function Name |\n",
    "|--------|---------------|\n",
    "| MSE | `mean_squared_error` |\n",
    "| MAE | `mean_absolute_error` |\n",
    "| $R^2$ | `r2_score` |"
   ]
  },
  {
   "cell_type": "code",
   "execution_count": 9,
   "metadata": {
    "colab": {},
    "colab_type": "code",
    "id": "hTiRHo9swDkT"
   },
   "outputs": [
    {
     "data": {
      "text/plain": [
       "88651768.96927956"
      ]
     },
     "execution_count": 9,
     "metadata": {},
     "output_type": "execute_result"
    }
   ],
   "source": [
    "from sklearn.metrics import mean_squared_error\n",
    "mean_squared_error(y_train, y_train_)"
   ]
  },
  {
   "cell_type": "markdown",
   "metadata": {
    "colab_type": "text",
    "id": "vXQuW0OCwDkX"
   },
   "source": [
    "To obtain a measure of error that is more interpretable, we can take the square root to obtain the RMSE."
   ]
  },
  {
   "cell_type": "code",
   "execution_count": 10,
   "metadata": {
    "colab": {},
    "colab_type": "code",
    "id": "JJVS2qhdwDkZ"
   },
   "outputs": [
    {
     "data": {
      "text/plain": [
       "9415.506835496395"
      ]
     },
     "execution_count": 10,
     "metadata": {},
     "output_type": "execute_result"
    }
   ],
   "source": [
    "rmse = np.sqrt(mse)\n",
    "rmse"
   ]
  },
  {
   "cell_type": "markdown",
   "metadata": {
    "colab_type": "text",
    "id": "Mz0Lz2KSwDke"
   },
   "source": [
    "The RMSE says that the model's predictions are off by about 0.4 on average. This is not too bad, since vintage quality ranges from 2.0 to 5.0."
   ]
  },
  {
   "cell_type": "code",
   "execution_count": null,
   "metadata": {},
   "outputs": [],
   "source": []
  }
 ],
 "metadata": {
  "colab": {
   "name": "5.4 Training and Test Errors.ipynb",
   "provenance": []
  },
  "kernelspec": {
   "display_name": "Python 3 (ipykernel)",
   "language": "python",
   "name": "python3"
  },
  "language_info": {
   "codemirror_mode": {
    "name": "ipython",
    "version": 3
   },
   "file_extension": ".py",
   "mimetype": "text/x-python",
   "name": "python",
   "nbconvert_exporter": "python",
   "pygments_lexer": "ipython3",
   "version": "3.9.13"
  }
 },
 "nbformat": 4,
 "nbformat_minor": 4
}
